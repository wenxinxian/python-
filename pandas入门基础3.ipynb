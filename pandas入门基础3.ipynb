{
 "cells": [
  {
   "cell_type": "markdown",
   "metadata": {},
   "source": [
    "pandas入门基础"
   ]
  },
  {
   "cell_type": "code",
   "execution_count": 4,
   "metadata": {},
   "outputs": [
    {
     "name": "stdout",
     "output_type": "stream",
     "text": [
      "D:/Users/wen18/Desktop/graduate study/python/coin_quant/coin_quant_class/data/class5/BITFINEX_BTCUSD_20180124.csv\n"
     ]
    }
   ],
   "source": [
    "temp='D:/Users\\wen18\\Desktop\\graduate study\\python\\coin_quant\\coin_quant_class\\data\\class5\\BITFINEX_BTCUSD_20180124.csv'\n",
    "# 需更改至少一个\\为/才能编译通过\n",
    "print(temp.replace('\\\\','/'))"
   ]
  },
  {
   "cell_type": "code",
   "execution_count": 2,
   "metadata": {},
   "outputs": [
    {
     "name": "stdout",
     "output_type": "stream",
     "text": [
      "      candle_begin_time  symbol      open      high       low     close         volume\n",
      "0   2018-01-24 16:00:00  AIDBTC  0.000197  0.000197  0.000030  0.000135   27949.994575\n",
      "1   2018-01-24 17:00:00  AIDBTC  0.000079  0.000100  0.000047  0.000056   51103.997537\n",
      "2   2018-01-24 18:00:00  AIDBTC  0.000063  0.000075  0.000050  0.000072  106084.152913\n",
      "3   2018-01-24 19:00:00  AIDBTC  0.000072  0.000073  0.000061  0.000070   60643.769757\n",
      "4   2018-01-24 20:00:00  AIDBTC  0.000070  0.000077  0.000061  0.000061   26093.496136\n",
      "..                  ...     ...       ...       ...       ...       ...            ...\n",
      "95  2018-01-24 02:00:00  BATBTC  0.000052  0.000060  0.000051  0.000051   87629.837338\n",
      "96  2018-01-24 03:00:00  BATBTC  0.000051  0.000051  0.000051  0.000051    2180.635093\n",
      "97  2018-01-24 04:00:00  BATBTC  0.000050  0.000051  0.000050  0.000050    3927.277352\n",
      "98  2018-01-24 05:00:00  BATBTC  0.000051  0.000060  0.000050  0.000060   80513.991452\n",
      "99  2018-01-24 06:00:00  BATBTC  0.000051  0.000059  0.000050  0.000051   91428.229530\n",
      "\n",
      "[100 rows x 7 columns]\n"
     ]
    }
   ],
   "source": [
    "import pandas as pd\n",
    "pd.set_option('expand_frame_repr',False)\n",
    "df=pd.read_csv(\n",
    "filepath_or_buffer='D:/Users/wen18/Desktop/graduate study/python/coin_quant/coin_quant_class/data/class5/BITFINEX_BTCUSD_20180124.csv',\n",
    "    sep=',',\n",
    "    skiprows=1,\n",
    "    nrows=100,\n",
    ")\n",
    "print(df)"
   ]
  },
  {
   "cell_type": "code",
   "execution_count": 9,
   "metadata": {},
   "outputs": [
    {
     "name": "stdout",
     "output_type": "stream",
     "text": [
      "(100, 7)\n",
      "candle_begin_time     object\n",
      "symbol                object\n",
      "open                 float64\n",
      "high                 float64\n",
      "low                  float64\n",
      "close                float64\n",
      "volume               float64\n",
      "dtype: object\n"
     ]
    }
   ],
   "source": [
    "print(df.shape)\n",
    "print(df.dtypes) # 只有两列是字符串类型"
   ]
  },
  {
   "cell_type": "markdown",
   "metadata": {},
   "source": [
    "字符串操作 str"
   ]
  },
  {
   "cell_type": "code",
   "execution_count": 21,
   "metadata": {},
   "outputs": [
    {
     "name": "stdout",
     "output_type": "stream",
     "text": [
      "0     6\n",
      "1     6\n",
      "2     6\n",
      "3     6\n",
      "4     6\n",
      "     ..\n",
      "95    6\n",
      "96    6\n",
      "97    6\n",
      "98    6\n",
      "99    6\n",
      "Name: symbol, Length: 100, dtype: int64\n",
      "0     False\n",
      "1     False\n",
      "2     False\n",
      "3     False\n",
      "4     False\n",
      "      ...  \n",
      "95     True\n",
      "96     True\n",
      "97     True\n",
      "98     True\n",
      "99     True\n",
      "Name: symbol, Length: 100, dtype: bool\n",
      "0     aidbtc\n",
      "1     aidbtc\n",
      "2     aidbtc\n",
      "3     aidbtc\n",
      "4     aidbtc\n",
      "       ...  \n",
      "95    batbtc\n",
      "96    batbtc\n",
      "97    batbtc\n",
      "98    batbtc\n",
      "99    batbtc\n",
      "Name: symbol, Length: 100, dtype: object\n",
      "0     AIDBTC\n",
      "1     AIDBTC\n",
      "2     AIDBTC\n",
      "3     AIDBTC\n",
      "4     AIDBTC\n",
      "       ...  \n",
      "95    BATBTC\n",
      "96    BATBTC\n",
      "97    BATBTC\n",
      "98    BATBTC\n",
      "99    BATBTC\n",
      "Name: symbol, Length: 100, dtype: object\n",
      "0     AIDUSD\n",
      "1     AIDUSD\n",
      "2     AIDUSD\n",
      "3     AIDUSD\n",
      "4     AIDUSD\n",
      "       ...  \n",
      "95    BATUSD\n",
      "96    BATUSD\n",
      "97    BATUSD\n",
      "98    BATUSD\n",
      "99    BATUSD\n",
      "Name: symbol, Length: 100, dtype: object\n",
      "      candle_begin_time  symbol      open      high       low     close         volume\n",
      "0   2018-01-24 16:00:00  AIDBTC  0.000197  0.000197  0.000030  0.000135   27949.994575\n",
      "1   2018-01-24 17:00:00  AIDBTC  0.000079  0.000100  0.000047  0.000056   51103.997537\n",
      "2   2018-01-24 18:00:00  AIDBTC  0.000063  0.000075  0.000050  0.000072  106084.152913\n",
      "3   2018-01-24 19:00:00  AIDBTC  0.000072  0.000073  0.000061  0.000070   60643.769757\n",
      "4   2018-01-24 20:00:00  AIDBTC  0.000070  0.000077  0.000061  0.000061   26093.496136\n",
      "..                  ...     ...       ...       ...       ...       ...            ...\n",
      "95  2018-01-24 02:00:00  BATBTC  0.000052  0.000060  0.000051  0.000051   87629.837338\n",
      "96  2018-01-24 03:00:00  BATBTC  0.000051  0.000051  0.000051  0.000051    2180.635093\n",
      "97  2018-01-24 04:00:00  BATBTC  0.000050  0.000051  0.000050  0.000050    3927.277352\n",
      "98  2018-01-24 05:00:00  BATBTC  0.000051  0.000060  0.000050  0.000060   80513.991452\n",
      "99  2018-01-24 06:00:00  BATBTC  0.000051  0.000059  0.000050  0.000051   91428.229530\n",
      "\n",
      "[100 rows x 7 columns]\n"
     ]
    }
   ],
   "source": [
    "# str.对整列字符串操作\n",
    "# print(df['symbol'].str[:3]） 整列切片操作不可行，，？\n",
    "print(df['symbol'].str.len()) # 统计每列字符串长度\n",
    "print(df['symbol'].str.contains('BAT')) # 是否包含某字符，返回布尔值\n",
    "print(df['symbol'].str.lower()) # 字符串的大小写转换\n",
    "print(df['symbol'].str.upper()) # 字符串的大小写转换\n",
    "df['symbol'].str.strip()  # 字符串两边空格去掉\n",
    "print(df['symbol'].str.replace('BTC','USD')) # 替换,临时替换\n",
    "print(df)"
   ]
  },
  {
   "cell_type": "code",
   "execution_count": 24,
   "metadata": {},
   "outputs": [
    {
     "name": "stdout",
     "output_type": "stream",
     "text": [
      "BATB\n",
      "0     AIDB\n",
      "1     AIDB\n",
      "2     AIDB\n",
      "3     AIDB\n",
      "4     AIDB\n",
      "      ... \n",
      "95    BATB\n",
      "96    BATB\n",
      "97    BATB\n",
      "98    BATB\n",
      "99    BATB\n",
      "Name: symbol, Length: 100, dtype: object\n"
     ]
    }
   ],
   "source": [
    "print('BATBTC'[:4]) # 单字符串切片\n",
    "print(df['symbol'].str[:4]) # 整列切片"
   ]
  },
  {
   "cell_type": "markdown",
   "metadata": {},
   "source": [
    "F.时间、滚动操作"
   ]
  },
  {
   "cell_type": "code",
   "execution_count": 12,
   "metadata": {},
   "outputs": [
    {
     "name": "stdout",
     "output_type": "stream",
     "text": [
      "<class 'str'>\n",
      "<class 'str'>\n",
      "2018-01-24 16:00:00\n",
      "<class 'pandas._libs.tslibs.timestamps.Timestamp'>\n"
     ]
    }
   ],
   "source": [
    "# 时间操作\n",
    "\n",
    "# 确认时间格式与字符串格式\n",
    "print(type(df.iat[0,0]))\n",
    "print(type(df.at[0,'candle_begin_time'])) # at与iat区别\n",
    "\n",
    "# 字符串格式转换为时间格式 pd.to_datetime\n",
    "df['candle_begin_time']=pd.to_datetime(df['candle_begin_time'])\n",
    "\n",
    "print(df.iat[0,0])\n",
    "print(type(df.iat[0,0]))\n",
    "\n",
    "# print(pd.to_datetime('1999年1月2日')) 带中文的日期无法识别"
   ]
  },
  {
   "cell_type": "code",
   "execution_count": 21,
   "metadata": {},
   "outputs": [
    {
     "name": "stdout",
     "output_type": "stream",
     "text": [
      "0     Wednesday\n",
      "1     Wednesday\n",
      "2     Wednesday\n",
      "3     Wednesday\n",
      "4     Wednesday\n",
      "        ...    \n",
      "95    Wednesday\n",
      "96    Wednesday\n",
      "97    Wednesday\n",
      "98    Wednesday\n",
      "99    Wednesday\n",
      "Name: candle_begin_time, Length: 100, dtype: object\n",
      "0    2018-01-25 16:00:00\n",
      "1    2018-01-25 17:00:00\n",
      "2    2018-01-25 18:00:00\n",
      "3    2018-01-25 19:00:00\n",
      "4    2018-01-25 20:00:00\n",
      "             ...        \n",
      "95   2018-01-25 02:00:00\n",
      "96   2018-01-25 03:00:00\n",
      "97   2018-01-25 04:00:00\n",
      "98   2018-01-25 05:00:00\n",
      "99   2018-01-25 06:00:00\n",
      "Name: candle_begin_time, Length: 100, dtype: datetime64[ns]\n"
     ]
    }
   ],
   "source": [
    "# 其他时间格式操作 dt.\n",
    "\n",
    "# print(df['candle_begin_time'].dt.year)  # 取年份\n",
    "# print(df['candle_begin_time'].dt.month)  #  取月份\n",
    "# print(df['candle_begin_time'].dt.week)  # 一年中第几周\n",
    "# print(df['candle_begin_time'].dt.dayofyear)  # 一年中第几天\n",
    "\n",
    "# print(df['candle_begin_time'].dt.dayofweek)  # 一周中第几天，0为周一\n",
    "# print(df['candle_begin_time'].dt.weekday)  # 同上\n",
    "print(df['candle_begin_time'].dt.weekday_name)  # 一周中星期几\n",
    "\n",
    "# print(df['candle_begin_time'].dt.days_in_month)  # 此月份共有多少天\n",
    "# print(df['candle_begin_time'].dt.is_month_strat)  # 判断日期是否为月第一天或最后一天end\n",
    "\n",
    "print(df['candle_begin_time']+pd.Timedelta(days=1))  # 日期加1，可以改小时分钟秒[weeks, days, hours, minutes, seconds, milliseconds, microseconds, nanoseconds]\n"
   ]
  },
  {
   "cell_type": "code",
   "execution_count": 9,
   "metadata": {},
   "outputs": [
    {
     "name": "stdout",
     "output_type": "stream",
     "text": [
      "0     0.000135\n",
      "1     0.000056\n",
      "2     0.000072\n",
      "3     0.000070\n",
      "4     0.000061\n",
      "        ...   \n",
      "95    0.000051\n",
      "96    0.000051\n",
      "97    0.000050\n",
      "98    0.000060\n",
      "99    0.000051\n",
      "Name: close, Length: 100, dtype: float64\n",
      "0          NaN\n",
      "1          NaN\n",
      "2     0.000135\n",
      "3     0.000072\n",
      "4     0.000072\n",
      "        ...   \n",
      "95    0.000052\n",
      "96    0.000052\n",
      "97    0.000051\n",
      "98    0.000060\n",
      "99    0.000060\n",
      "Name: close, Length: 100, dtype: float64\n"
     ]
    }
   ],
   "source": [
    "# 滚动操作 rolling(n),取最近n行进行操作，后接计算函数\n",
    "print(df['close'])\n",
    "# print(df['close'].rolling(3).mean()) # 滚动取最近三项的均值\n",
    "print(df['close'].rolling(3).max()) # 滚动取最近三项的最大值\n",
    "# print(df['close'].rolling(3).min()) # 滚动取最近三项的最小值\n",
    "# print(df['close'].rolling(3).std()) # 滚动取最近三项的标准差\n"
   ]
  },
  {
   "cell_type": "code",
   "execution_count": 10,
   "metadata": {},
   "outputs": [
    {
     "name": "stdout",
     "output_type": "stream",
     "text": [
      "0      27949.994575\n",
      "1      51103.997537\n",
      "2     106084.152913\n",
      "3      60643.769757\n",
      "4      26093.496136\n",
      "          ...      \n",
      "95     87629.837338\n",
      "96      2180.635093\n",
      "97      3927.277352\n",
      "98     80513.991452\n",
      "99     91428.229530\n",
      "Name: volume, Length: 100, dtype: float64\n",
      "0     27949.994575\n",
      "1     39526.996056\n",
      "2     61712.715008\n",
      "3     61445.478695\n",
      "4     54375.082183\n",
      "          ...     \n",
      "95    26644.744451\n",
      "96    26392.537138\n",
      "97    26163.299793\n",
      "98    26712.296679\n",
      "99    27359.456007\n",
      "Name: volume, Length: 100, dtype: float64\n",
      "0      27949.994575\n",
      "1      51103.997537\n",
      "2     106084.152913\n",
      "3     106084.152913\n",
      "4     106084.152913\n",
      "          ...      \n",
      "95    313947.221664\n",
      "96    313947.221664\n",
      "97    313947.221664\n",
      "98    313947.221664\n",
      "99    313947.221664\n",
      "Name: volume, Length: 100, dtype: float64\n"
     ]
    }
   ],
   "source": [
    "# expanding(),取从头到至今行进行操作，后接计算函数\n",
    "print(df['volume'])\n",
    "print(df['volume'].expanding().mean()) # 至今累计值的均值 \n",
    "print(df['volume'].expanding().max()) # 至今累计值的最大值 "
   ]
  },
  {
   "cell_type": "markdown",
   "metadata": {},
   "source": [
    "输出到本地文件操作"
   ]
  },
  {
   "cell_type": "code",
   "execution_count": null,
   "metadata": {},
   "outputs": [],
   "source": [
    "df.to_csv(\n",
    "'output.csv'，  # 输出文件位置，默认为程序同目录\n",
    "    index=False,  # 去掉index列\n",
    ")"
   ]
  }
 ],
 "metadata": {
  "kernelspec": {
   "display_name": "Python 3",
   "language": "python",
   "name": "python3"
  },
  "language_info": {
   "codemirror_mode": {
    "name": "ipython",
    "version": 3
   },
   "file_extension": ".py",
   "mimetype": "text/x-python",
   "name": "python",
   "nbconvert_exporter": "python",
   "pygments_lexer": "ipython3",
   "version": "3.7.4"
  }
 },
 "nbformat": 4,
 "nbformat_minor": 2
}
