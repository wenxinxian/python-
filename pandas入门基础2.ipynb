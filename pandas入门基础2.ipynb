{
 "cells": [
  {
   "cell_type": "markdown",
   "metadata": {},
   "source": [
    "pandas入门基础\n",
    "\n",
    "D.筛选、缺失处理\n"
   ]
  },
  {
   "cell_type": "code",
   "execution_count": 18,
   "metadata": {},
   "outputs": [],
   "source": [
    "import pandas as pd\n",
    "pd.set_option('expand_frame_repr',False)\n",
    "df=pd.read_csv(\n",
    "filepath_or_buffer='D:/Users/wen18/Desktop/graduate study/python/coin_quant/coin_quant_class/data/class5/BITFINEX_BTCUSD_20180124.csv',\n",
    "sep=',',\n",
    "skiprows=1,\n",
    "nrows=100,\n",
    "index_col=['candle_begin_time']\n",
    ")"
   ]
  },
  {
   "cell_type": "code",
   "execution_count": 7,
   "metadata": {},
   "outputs": [
    {
     "name": "stdout",
     "output_type": "stream",
     "text": [
      "D:/Users/wen18/Desktop/graduate study/python/coin_quant/coin_quant_class/data/class5/BITFINEX_BTCUSD_20180124\n"
     ]
    }
   ],
   "source": [
    "temp='D:/Users/wen18/Desktop/graduate study/python\\coin_quant\\coin_quant_class\\data\\class5\\BITFINEX_BTCUSD_20180124'\n",
    "# print(temp.replace('\\','/')  注意转义字符应为\\\\\n",
    "print(temp.replace('\\\\','/'))"
   ]
  },
  {
   "cell_type": "code",
   "execution_count": 22,
   "metadata": {
    "scrolled": true
   },
   "outputs": [
    {
     "name": "stdout",
     "output_type": "stream",
     "text": [
      "                     symbol      open      high       low     close         volume\n",
      "candle_begin_time                                                                 \n",
      "2018-01-24 16:00:00  AIDBTC  0.000197  0.000197  0.000030  0.000135   27949.994575\n",
      "2018-01-24 17:00:00  AIDBTC  0.000079  0.000100  0.000047  0.000056   51103.997537\n",
      "2018-01-24 18:00:00  AIDBTC  0.000063  0.000075  0.000050  0.000072  106084.152913\n",
      "2018-01-24 19:00:00  AIDBTC  0.000072  0.000073  0.000061  0.000070   60643.769757\n",
      "2018-01-24 20:00:00  AIDBTC  0.000070  0.000077  0.000061  0.000061   26093.496136\n",
      "...                     ...       ...       ...       ...       ...            ...\n",
      "2018-01-24 02:00:00  BATBTC  0.000052  0.000060  0.000051  0.000051   87629.837338\n",
      "2018-01-24 03:00:00  BATBTC  0.000051  0.000051  0.000051  0.000051    2180.635093\n",
      "2018-01-24 04:00:00  BATBTC  0.000050  0.000051  0.000050  0.000050    3927.277352\n",
      "2018-01-24 05:00:00  BATBTC  0.000051  0.000060  0.000050  0.000060   80513.991452\n",
      "2018-01-24 06:00:00  BATBTC  0.000051  0.000059  0.000050  0.000051   91428.229530\n",
      "\n",
      "[100 rows x 6 columns]\n",
      "symbol     object\n",
      "open      float64\n",
      "high      float64\n",
      "low       float64\n",
      "close     float64\n",
      "volume    float64\n",
      "dtype: object\n"
     ]
    }
   ],
   "source": [
    "print(df)\n",
    "print(df.dtypes)"
   ]
  },
  {
   "cell_type": "code",
   "execution_count": 26,
   "metadata": {},
   "outputs": [
    {
     "name": "stdout",
     "output_type": "stream",
     "text": [
      "candle_begin_time\n",
      "2018-01-24 16:00:00     True\n",
      "2018-01-24 17:00:00     True\n",
      "2018-01-24 18:00:00     True\n",
      "2018-01-24 19:00:00     True\n",
      "2018-01-24 20:00:00     True\n",
      "                       ...  \n",
      "2018-01-24 02:00:00    False\n",
      "2018-01-24 03:00:00    False\n",
      "2018-01-24 04:00:00    False\n",
      "2018-01-24 05:00:00    False\n",
      "2018-01-24 06:00:00    False\n",
      "Name: symbol, Length: 100, dtype: bool\n",
      "                     symbol      open      high       low     close         volume\n",
      "candle_begin_time                                                                 \n",
      "2018-01-24 16:00:00  AIDBTC  0.000197  0.000197  0.000030  0.000135   27949.994575\n",
      "2018-01-24 17:00:00  AIDBTC  0.000079  0.000100  0.000047  0.000056   51103.997537\n",
      "2018-01-24 18:00:00  AIDBTC  0.000063  0.000075  0.000050  0.000072  106084.152913\n",
      "2018-01-24 19:00:00  AIDBTC  0.000072  0.000073  0.000061  0.000070   60643.769757\n",
      "2018-01-24 20:00:00  AIDBTC  0.000070  0.000077  0.000061  0.000061   26093.496136\n",
      "2018-01-24 21:00:00  AIDBTC  0.000061  0.000068  0.000060  0.000068    1332.152353\n",
      "2018-01-24 22:00:00  AIDBTC  0.000063  0.000073  0.000055  0.000073   31376.825492\n",
      "2018-01-24 23:00:00  AIDBTC  0.000073  0.000073  0.000065  0.000069   19032.528362\n",
      "Index(['2018-01-24 16:00:00', '2018-01-24 17:00:00', '2018-01-24 18:00:00',\n",
      "       '2018-01-24 19:00:00', '2018-01-24 20:00:00', '2018-01-24 21:00:00',\n",
      "       '2018-01-24 22:00:00', '2018-01-24 23:00:00'],\n",
      "      dtype='object', name='candle_begin_time')\n"
     ]
    }
   ],
   "source": [
    "# 指定条件筛选 == <> & \\ isin \n",
    "print(df['symbol']=='AIDBTC') # 判断，结果为True or false\n",
    "print(df[df['symbol']=='AIDBTC']) # 输出所有True的行\n",
    "print(df[df['symbol']=='AIDBTC'].index) # 输出所有True的行的index，类型为列表"
   ]
  },
  {
   "cell_type": "code",
   "execution_count": 32,
   "metadata": {},
   "outputs": [
    {
     "name": "stdout",
     "output_type": "stream",
     "text": [
      "                     symbol      open      high       low     close         volume\n",
      "candle_begin_time                                                                 \n",
      "2018-01-24 17:00:00  AIDBTC  0.000079  0.000100  0.000047  0.000056   51103.997537\n",
      "2018-01-24 18:00:00  AIDBTC  0.000063  0.000075  0.000050  0.000072  106084.152913\n",
      "2018-01-24 19:00:00  AIDBTC  0.000072  0.000073  0.000061  0.000070   60643.769757\n",
      "2018-01-24 22:00:00  AIDBTC  0.000063  0.000073  0.000055  0.000073   31376.825492\n"
     ]
    }
   ],
   "source": [
    "print(df[(df['symbol']=='AIDBTC')& (df['volume']>30000)])"
   ]
  },
  {
   "cell_type": "code",
   "execution_count": 34,
   "metadata": {},
   "outputs": [
    {
     "name": "stdout",
     "output_type": "stream",
     "text": [
      "candle_begin_time\n",
      "2018-01-24 16:00:00    True\n",
      "2018-01-24 17:00:00    True\n",
      "2018-01-24 18:00:00    True\n",
      "2018-01-24 19:00:00    True\n",
      "2018-01-24 20:00:00    True\n",
      "                       ... \n",
      "2018-01-24 02:00:00    True\n",
      "2018-01-24 03:00:00    True\n",
      "2018-01-24 04:00:00    True\n",
      "2018-01-24 05:00:00    True\n",
      "2018-01-24 06:00:00    True\n",
      "Name: symbol, Length: 100, dtype: bool\n",
      "                     symbol      open      high       low     close         volume\n",
      "candle_begin_time                                                                 \n",
      "2018-01-24 16:00:00  AIDBTC  0.000197  0.000197  0.000030  0.000135   27949.994575\n",
      "2018-01-24 17:00:00  AIDBTC  0.000079  0.000100  0.000047  0.000056   51103.997537\n",
      "2018-01-24 18:00:00  AIDBTC  0.000063  0.000075  0.000050  0.000072  106084.152913\n",
      "2018-01-24 19:00:00  AIDBTC  0.000072  0.000073  0.000061  0.000070   60643.769757\n",
      "2018-01-24 20:00:00  AIDBTC  0.000070  0.000077  0.000061  0.000061   26093.496136\n",
      "2018-01-24 21:00:00  AIDBTC  0.000061  0.000068  0.000060  0.000068    1332.152353\n",
      "2018-01-24 22:00:00  AIDBTC  0.000063  0.000073  0.000055  0.000073   31376.825492\n",
      "2018-01-24 23:00:00  AIDBTC  0.000073  0.000073  0.000065  0.000069   19032.528362\n",
      "2018-01-24 00:00:00  BATBTC  0.000052  0.000058  0.000052  0.000052   61863.188099\n",
      "2018-01-24 01:00:00  BATBTC  0.000051  0.000055  0.000051  0.000052   88030.604065\n",
      "2018-01-24 02:00:00  BATBTC  0.000052  0.000060  0.000051  0.000051   87629.837338\n",
      "2018-01-24 03:00:00  BATBTC  0.000051  0.000051  0.000051  0.000051    2180.635093\n",
      "2018-01-24 04:00:00  BATBTC  0.000050  0.000051  0.000050  0.000050    3927.277352\n",
      "2018-01-24 05:00:00  BATBTC  0.000051  0.000060  0.000050  0.000060   80513.991452\n",
      "2018-01-24 06:00:00  BATBTC  0.000051  0.000059  0.000050  0.000051   91428.229530\n"
     ]
    }
   ],
   "source": [
    "# 缺失值处理\n",
    "print(df['symbol'].isin(['BATBTC','AIDBTC']) ) # 判断 输出布尔值\n",
    "print(df[df['symbol'].isin(['BATBTC','AIDBTC'])] ) # 输出True的行"
   ]
  },
  {
   "cell_type": "code",
   "execution_count": 47,
   "metadata": {
    "scrolled": true
   },
   "outputs": [
    {
     "name": "stdout",
     "output_type": "stream",
     "text": [
      "                     symbol      open      high       low     close         volume  BTC          drop\n",
      "candle_begin_time                                                                                    \n",
      "2018-01-24 16:00:00  AIDBTC  0.000197  0.000197  0.000030  0.000135   27949.994575  NaN  60643.769757\n",
      "2018-01-24 17:00:00  AIDBTC  0.000079  0.000100  0.000047  0.000056   51103.997537  NaN  26093.496136\n",
      "2018-01-24 18:00:00  AIDBTC  0.000063  0.000075  0.000050  0.000072  106084.152913  NaN   1332.152353\n",
      "2018-01-24 19:00:00  AIDBTC  0.000072  0.000073  0.000061  0.000070   60643.769757  NaN  31376.825492\n",
      "2018-01-24 20:00:00  AIDBTC  0.000070  0.000077  0.000061  0.000061   26093.496136  NaN  19032.528362\n",
      "...                     ...       ...       ...       ...       ...            ...  ...           ...\n",
      "2018-01-24 02:00:00  BATBTC  0.000052  0.000060  0.000051  0.000051   87629.837338  NaN  80513.991452\n",
      "2018-01-24 03:00:00  BATBTC  0.000051  0.000051  0.000051  0.000051    2180.635093  NaN  91428.229530\n",
      "2018-01-24 04:00:00  BATBTC  0.000050  0.000051  0.000050  0.000050    3927.277352  NaN           NaN\n",
      "2018-01-24 05:00:00  BATBTC  0.000051  0.000060  0.000050  0.000060   80513.991452  NaN           NaN\n",
      "2018-01-24 06:00:00  BATBTC  0.000051  0.000059  0.000050  0.000051   91428.229530  NaN           NaN\n",
      "\n",
      "[100 rows x 8 columns]\n",
      "                     symbol      open      high       low     close         volume          drop\n",
      "candle_begin_time                                                                               \n",
      "2018-01-24 16:00:00  AIDBTC  0.000197  0.000197  0.000030  0.000135   27949.994575  60643.769757\n",
      "2018-01-24 17:00:00  AIDBTC  0.000079  0.000100  0.000047  0.000056   51103.997537  26093.496136\n",
      "2018-01-24 18:00:00  AIDBTC  0.000063  0.000075  0.000050  0.000072  106084.152913   1332.152353\n",
      "2018-01-24 19:00:00  AIDBTC  0.000072  0.000073  0.000061  0.000070   60643.769757  31376.825492\n",
      "2018-01-24 20:00:00  AIDBTC  0.000070  0.000077  0.000061  0.000061   26093.496136  19032.528362\n",
      "...                     ...       ...       ...       ...       ...            ...           ...\n",
      "2018-01-24 23:00:00  AVTUSD  3.676800  3.729900  3.631000  3.729900    1345.790828  87629.837338\n",
      "2018-01-24 00:00:00  BATBTC  0.000052  0.000058  0.000052  0.000052   61863.188099   2180.635093\n",
      "2018-01-24 01:00:00  BATBTC  0.000051  0.000055  0.000051  0.000052   88030.604065   3927.277352\n",
      "2018-01-24 02:00:00  BATBTC  0.000052  0.000060  0.000051  0.000051   87629.837338  80513.991452\n",
      "2018-01-24 03:00:00  BATBTC  0.000051  0.000051  0.000051  0.000051    2180.635093  91428.229530\n",
      "\n",
      "[97 rows x 7 columns]\n"
     ]
    }
   ],
   "source": [
    "# 缺失值处理\n",
    "# index=df[df['symbol'].isin(['BATBTC','AIDBTC'])].index  # 取特定行index\n",
    "# 增加一列，只有指定值输出，不满足时缺失值\n",
    "# df.loc[index,'BTC']=df[:]  用法有误，，，\n",
    "# print(df)\n",
    "# 删除缺失值NONE\n",
    "df['drop']=df['volume'].shift(-3)\n",
    "print(df) \n",
    "del df['BTC']\n",
    "print(df.dropna(how='any')) # 删除含空值行，how='any'有一个空值就会删除整行\n",
    "# df['drop']=df['volume'].shift(-3)\n",
    "# print(df[['volume','drop']]) \n",
    "print(df.dropna(subset=['drop'],how='all')) # 在指定列中判断空值，how='all'该行全为空值才会删除整行"
   ]
  },
  {
   "cell_type": "code",
   "execution_count": 48,
   "metadata": {},
   "outputs": [
    {
     "name": "stdout",
     "output_type": "stream",
     "text": [
      "                     symbol  open  high   low  close  volume   drop\n",
      "candle_begin_time                                                  \n",
      "2018-01-24 16:00:00    True  True  True  True   True    True   True\n",
      "2018-01-24 17:00:00    True  True  True  True   True    True   True\n",
      "2018-01-24 18:00:00    True  True  True  True   True    True   True\n",
      "2018-01-24 19:00:00    True  True  True  True   True    True   True\n",
      "2018-01-24 20:00:00    True  True  True  True   True    True   True\n",
      "...                     ...   ...   ...   ...    ...     ...    ...\n",
      "2018-01-24 02:00:00    True  True  True  True   True    True   True\n",
      "2018-01-24 03:00:00    True  True  True  True   True    True   True\n",
      "2018-01-24 04:00:00    True  True  True  True   True    True  False\n",
      "2018-01-24 05:00:00    True  True  True  True   True    True  False\n",
      "2018-01-24 06:00:00    True  True  True  True   True    True  False\n",
      "\n",
      "[100 rows x 7 columns]\n"
     ]
    }
   ],
   "source": [
    "# 找出缺失值\n",
    "print(df.notnull())"
   ]
  },
  {
   "cell_type": "code",
   "execution_count": 55,
   "metadata": {},
   "outputs": [
    {
     "name": "stdout",
     "output_type": "stream",
     "text": [
      "candle_begin_time\n",
      "2018-01-24 16:00:00    60643.769757\n",
      "2018-01-24 17:00:00    26093.496136\n",
      "2018-01-24 18:00:00     1332.152353\n",
      "2018-01-24 19:00:00    31376.825492\n",
      "2018-01-24 20:00:00    19032.528362\n",
      "                           ...     \n",
      "2018-01-24 02:00:00    80513.991452\n",
      "2018-01-24 03:00:00    91428.229530\n",
      "2018-01-24 04:00:00    91428.229530\n",
      "2018-01-24 05:00:00    91428.229530\n",
      "2018-01-24 06:00:00    91428.229530\n",
      "Name: drop, Length: 100, dtype: float64\n"
     ]
    }
   ],
   "source": [
    "# 缺失值补全\n",
    "# 替换为固定值\n",
    "# df['temp']=df['volume'].shift(-3)\n",
    "# print(df) \n",
    "# print(df['temp'].fillna(value=1)) #某列替换为固定值1\n",
    "# df['temp'].fillna(value=df['volume'],inplace=True) # 用某列数据替换某列空值\n",
    "# print(df)\n",
    "print(df['drop'].fillna(method='ffill')) # 向上找同列最近值替换\n",
    "# print(df['drop'].fillna(method='bfill')) # 向下找同列最近值替换"
   ]
  },
  {
   "cell_type": "markdown",
   "metadata": {},
   "source": [
    "E.合并、去重、字符串"
   ]
  },
  {
   "cell_type": "code",
   "execution_count": 70,
   "metadata": {},
   "outputs": [
    {
     "name": "stdout",
     "output_type": "stream",
     "text": [
      "                     symbol      open      high       low     close         volume\n",
      "candle_begin_time                                                                 \n",
      "2018-01-24 16:00:00  AIDBTC  0.000197  0.000197  0.000030  0.000135   27949.994575\n",
      "2018-01-24 17:00:00  AIDBTC  0.000079  0.000100  0.000047  0.000056   51103.997537\n",
      "2018-01-24 18:00:00  AIDBTC  0.000063  0.000075  0.000050  0.000072  106084.152913\n",
      "2018-01-24 18:00:00  AIDBTC  0.000063  0.000075  0.000050  0.000072  106084.152913\n",
      "2018-01-24 18:00:00  AIDBTC  0.000063  0.000075  0.000050  0.000072  106084.152913\n",
      "2018-01-24 19:00:00  AIDBTC  0.000072  0.000073  0.000061  0.000070   60643.769757\n",
      "2018-01-24 20:00:00  AIDBTC  0.000070  0.000077  0.000061  0.000061   26093.496136\n",
      "2018-01-24 21:00:00  AIDBTC  0.000061  0.000068  0.000060  0.000068    1332.152353\n",
      "2018-01-24 22:00:00  AIDBTC  0.000063  0.000073  0.000055  0.000073   31376.825492\n"
     ]
    }
   ],
   "source": [
    "# 排序函数\n",
    "df.sort_values(\n",
    "    by=['symbol','candle_begin_time'], # 按两列排序\n",
    "    ascending=[1,1]) # 两列均顺序排列\n",
    "print(df)"
   ]
  },
  {
   "cell_type": "code",
   "execution_count": 66,
   "metadata": {},
   "outputs": [],
   "source": [
    "# 两个df上下合并 append\n",
    "df1=df.iloc[0:3,0:6]\n",
    "df2=df.iloc[2:8,0:6]\n",
    "# df3=df.iloc[3:6,'high']  iloc不可用lable\n",
    "# df3=df.iloc[1:8]['symbol','close','volume']  去多列需要加[]\n",
    "df3=df.iloc[1:8][['symbol','close','volume']]  # 正确用法,index列被取代"
   ]
  },
  {
   "cell_type": "code",
   "execution_count": 71,
   "metadata": {
    "scrolled": true
   },
   "outputs": [
    {
     "name": "stdout",
     "output_type": "stream",
     "text": [
      "                     symbol      open      high       low     close         volume\n",
      "candle_begin_time                                                                 \n",
      "2018-01-24 16:00:00  AIDBTC  0.000197  0.000197  0.000030  0.000135   27949.994575\n",
      "2018-01-24 17:00:00  AIDBTC  0.000079  0.000100  0.000047  0.000056   51103.997537\n",
      "2018-01-24 18:00:00  AIDBTC  0.000063  0.000075  0.000050  0.000072  106084.152913\n",
      "2018-01-24 18:00:00  AIDBTC  0.000063  0.000075  0.000050  0.000072  106084.152913\n",
      "2018-01-24 18:00:00  AIDBTC  0.000063  0.000075  0.000050  0.000072  106084.152913\n",
      "2018-01-24 19:00:00  AIDBTC  0.000072  0.000073  0.000061  0.000070   60643.769757\n",
      "2018-01-24 20:00:00  AIDBTC  0.000070  0.000077  0.000061  0.000061   26093.496136\n",
      "2018-01-24 21:00:00  AIDBTC  0.000061  0.000068  0.000060  0.000068    1332.152353\n",
      "2018-01-24 22:00:00  AIDBTC  0.000063  0.000073  0.000055  0.000073   31376.825492\n",
      "      close      high       low      open  symbol         volume\n",
      "0  0.000135  0.000197  0.000030  0.000197  AIDBTC   27949.994575\n",
      "1  0.000056  0.000100  0.000047  0.000079  AIDBTC   51103.997537\n",
      "2  0.000072  0.000075  0.000050  0.000063  AIDBTC  106084.152913\n",
      "3  0.000056       NaN       NaN       NaN  AIDBTC   51103.997537\n",
      "4  0.000072       NaN       NaN       NaN  AIDBTC  106084.152913\n",
      "5  0.000072       NaN       NaN       NaN  AIDBTC  106084.152913\n",
      "6  0.000070       NaN       NaN       NaN  AIDBTC   60643.769757\n",
      "7  0.000061       NaN       NaN       NaN  AIDBTC   26093.496136\n",
      "8  0.000068       NaN       NaN       NaN  AIDBTC    1332.152353\n",
      "9  0.000073       NaN       NaN       NaN  AIDBTC   31376.825492\n"
     ]
    }
   ],
   "source": [
    "df=df1.append(df2)  # 合并后的index存在重复\n",
    "print(df)\n",
    "df_=df1.append(df3,ignore_index=True)  # 合并后重新确定index，未取得列均为空值\n",
    "print(df_)"
   ]
  },
  {
   "cell_type": "code",
   "execution_count": 76,
   "metadata": {},
   "outputs": [
    {
     "name": "stdout",
     "output_type": "stream",
     "text": [
      "                     symbol      open      high       low     close         volume\n",
      "candle_begin_time                                                                 \n",
      "2018-01-24 16:00:00  AIDBTC  0.000197  0.000197  0.000030  0.000135   27949.994575\n",
      "2018-01-24 17:00:00  AIDBTC  0.000079  0.000100  0.000047  0.000056   51103.997537\n",
      "2018-01-24 18:00:00  AIDBTC  0.000063  0.000075  0.000050  0.000072  106084.152913\n",
      "2018-01-24 19:00:00  AIDBTC  0.000072  0.000073  0.000061  0.000070   60643.769757\n",
      "2018-01-24 20:00:00  AIDBTC  0.000070  0.000077  0.000061  0.000061   26093.496136\n",
      "2018-01-24 21:00:00  AIDBTC  0.000061  0.000068  0.000060  0.000068    1332.152353\n",
      "2018-01-24 22:00:00  AIDBTC  0.000063  0.000073  0.000055  0.000073   31376.825492\n"
     ]
    }
   ],
   "source": [
    "# 数据去重(行) drop_duplicates\n",
    "df.drop_duplicates(\n",
    "      subset=['symbol','volume'],# 根据哪些列去重，默认为用全部列判断是否重复，全部一致才重复(注意不可以用index判断)\n",
    "      keep='first',   # 重复时保留上还是下，first为上，last为下\n",
    "      inplace=True\n",
    ")\n",
    "print(df)"
   ]
  },
  {
   "cell_type": "code",
   "execution_count": 87,
   "metadata": {
    "scrolled": true
   },
   "outputs": [
    {
     "name": "stdout",
     "output_type": "stream",
     "text": [
      "      close      high       low      open  symbol         volume\n",
      "0  0.000135  0.000197  0.000030  0.000197  AIDBTC   27949.994575\n",
      "1  0.000056  0.000100  0.000047  0.000079  AIDBTC   51103.997537\n",
      "2  0.000072  0.000075  0.000050  0.000063  AIDBTC  106084.152913\n",
      "3  0.000056       NaN       NaN       NaN  AIDBTC   51103.997537\n",
      "4  0.000072       NaN       NaN       NaN  AIDBTC  106084.152913\n",
      "5  0.000072       NaN       NaN       NaN  AIDBTC  106084.152913\n",
      "6  0.000070       NaN       NaN       NaN  AIDBTC   60643.769757\n",
      "7  0.000061       NaN       NaN       NaN  AIDBTC   26093.496136\n",
      "8  0.000068       NaN       NaN       NaN  AIDBTC    1332.152353\n",
      "9  0.000073       NaN       NaN       NaN  AIDBTC   31376.825492\n"
     ]
    }
   ],
   "source": [
    "# 其他函数\n",
    "# 重置index\n",
    " df_.reset_index(inplace=True,drop=True) # drop=True 原index不保留\n",
    "print(df_)\n",
    "# del df_['index']"
   ]
  },
  {
   "cell_type": "code",
   "execution_count": 93,
   "metadata": {},
   "outputs": [
    {
     "name": "stdout",
     "output_type": "stream",
     "text": [
      "                         品种      open      high       low       收盘价         volume\n",
      "candle_begin_time                                                                 \n",
      "2018-01-24 16:00:00  AIDBTC  0.000197  0.000197  0.000030  0.000135   27949.994575\n",
      "2018-01-24 17:00:00  AIDBTC  0.000079  0.000100  0.000047  0.000056   51103.997537\n",
      "2018-01-24 18:00:00  AIDBTC  0.000063  0.000075  0.000050  0.000072  106084.152913\n",
      "2018-01-24 19:00:00  AIDBTC  0.000072  0.000073  0.000061  0.000070   60643.769757\n",
      "2018-01-24 20:00:00  AIDBTC  0.000070  0.000077  0.000061  0.000061   26093.496136\n",
      "2018-01-24 21:00:00  AIDBTC  0.000061  0.000068  0.000060  0.000068    1332.152353\n",
      "2018-01-24 22:00:00  AIDBTC  0.000063  0.000073  0.000055  0.000073   31376.825492\n",
      "False\n",
      "                0          1          2        3         4         5          6        7          8          9\n",
      "close   0.0001347    5.6e-05   7.18e-05  5.6e-05  7.18e-05  7.18e-05  7.037e-05  6.1e-05  6.794e-05  7.276e-05\n",
      "high     0.000197   9.99e-05   7.47e-05      NaN       NaN       NaN        NaN      NaN        NaN        NaN\n",
      "low      3.01e-05  4.701e-05  5.012e-05      NaN       NaN       NaN        NaN      NaN        NaN        NaN\n",
      "open     0.000197  7.903e-05    6.3e-05      NaN       NaN       NaN        NaN      NaN        NaN        NaN\n",
      "symbol     AIDBTC     AIDBTC     AIDBTC   AIDBTC    AIDBTC    AIDBTC     AIDBTC   AIDBTC     AIDBTC     AIDBTC\n",
      "volume      27950      51104     106084    51104    106084    106084    60643.8  26093.5    1332.15    31376.8\n"
     ]
    }
   ],
   "source": [
    "# 重命名某列 rename 使用dict进行修改\n",
    "print(df.rename(columns={'close':'收盘价','symbol':'品种'}))\n",
    "\n",
    "# 判断df是否为空\n",
    "print(df.empty)\n",
    "\n",
    "# 数据转置\n",
    "print(df_.T)"
   ]
  },
  {
   "cell_type": "code",
   "execution_count": null,
   "metadata": {},
   "outputs": [],
   "source": []
  }
 ],
 "metadata": {
  "kernelspec": {
   "display_name": "Python 3",
   "language": "python",
   "name": "python3"
  },
  "language_info": {
   "codemirror_mode": {
    "name": "ipython",
    "version": 3
   },
   "file_extension": ".py",
   "mimetype": "text/x-python",
   "name": "python",
   "nbconvert_exporter": "python",
   "pygments_lexer": "ipython3",
   "version": "3.7.4"
  }
 },
 "nbformat": 4,
 "nbformat_minor": 2
}
