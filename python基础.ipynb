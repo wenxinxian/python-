{
 "cells": [
  {
   "cell_type": "markdown",
   "metadata": {},
   "source": [
    "python入门教程"
   ]
  },
  {
   "cell_type": "markdown",
   "metadata": {},
   "source": [
    "关于注释--多行注释快捷键ctrl+/"
   ]
  },
  {
   "cell_type": "markdown",
   "metadata": {},
   "source": [
    "A.变量与数据类型"
   ]
  },
  {
   "cell_type": "markdown",
   "metadata": {},
   "source": [
    "标准数据类型：\n",
    "数字，字符串，列表，元组，字典"
   ]
  },
  {
   "cell_type": "code",
   "execution_count": 2,
   "metadata": {},
   "outputs": [
    {
     "data": {
      "text/plain": [
       "bool"
      ]
     },
     "execution_count": 2,
     "metadata": {},
     "output_type": "execute_result"
    }
   ],
   "source": [
    "x=True\n",
    "type(x)"
   ]
  },
  {
   "cell_type": "code",
   "execution_count": 7,
   "metadata": {},
   "outputs": [
    {
     "name": "stdout",
     "output_type": "stream",
     "text": [
      "large small <class 'str'>\n",
      "we are\n",
      "we are \"the world\"\n"
     ]
    }
   ],
   "source": [
    "#字符串，表示文本类型数据，单引号，双引号，三引号均可\n",
    "x='large'\n",
    "print(x,'small',type(x))\n",
    "print(\"we are\")\n",
    "print('we are \"the world\"')"
   ]
  },
  {
   "cell_type": "code",
   "execution_count": 9,
   "metadata": {},
   "outputs": [
    {
     "name": "stdout",
     "output_type": "stream",
     "text": [
      "False\n",
      "large <class 'str'>\n"
     ]
    }
   ],
   "source": [
    "#布尔,大小写敏感\n",
    "print(True==0)\n",
    "#x=True\n",
    "print(x,type(x))"
   ]
  },
  {
   "cell_type": "code",
   "execution_count": 2,
   "metadata": {},
   "outputs": [
    {
     "name": "stdout",
     "output_type": "stream",
     "text": [
      "None <class 'NoneType'>\n"
     ]
    }
   ],
   "source": [
    "#空值：None\n",
    "print(None,type(None))"
   ]
  },
  {
   "cell_type": "markdown",
   "metadata": {},
   "source": [
    "关于变量:取名需首子母和下划线开头"
   ]
  },
  {
   "cell_type": "code",
   "execution_count": 3,
   "metadata": {},
   "outputs": [
    {
     "ename": "SyntaxError",
     "evalue": "invalid token (<ipython-input-3-b4c1ba8fd4b7>, line 1)",
     "output_type": "error",
     "traceback": [
      "\u001b[1;36m  File \u001b[1;32m\"<ipython-input-3-b4c1ba8fd4b7>\"\u001b[1;36m, line \u001b[1;32m1\u001b[0m\n\u001b[1;33m    2_dsjd=23\u001b[0m\n\u001b[1;37m     ^\u001b[0m\n\u001b[1;31mSyntaxError\u001b[0m\u001b[1;31m:\u001b[0m invalid token\n"
     ]
    }
   ],
   "source": [
    "2_dsjd=23"
   ]
  },
  {
   "cell_type": "code",
   "execution_count": 4,
   "metadata": {},
   "outputs": [],
   "source": [
    "_dhkahd=23"
   ]
  },
  {
   "cell_type": "markdown",
   "metadata": {},
   "source": [
    "基本运算"
   ]
  },
  {
   "cell_type": "code",
   "execution_count": 7,
   "metadata": {},
   "outputs": [
    {
     "name": "stdout",
     "output_type": "stream",
     "text": [
      "26 9\n"
     ]
    }
   ],
   "source": [
    "#取余数 % ，**乘方 ，+=/-=\n",
    "a=8+17\n",
    "b=3**2\n",
    "a+=1\n",
    "print(a,b)"
   ]
  },
  {
   "cell_type": "code",
   "execution_count": 10,
   "metadata": {},
   "outputs": [
    {
     "name": "stdout",
     "output_type": "stream",
     "text": [
      "abcabcabc\n"
     ]
    }
   ],
   "source": [
    "#不同变量类型间运算\n",
    "#print(3+'abc') 不可运算\n",
    "print(3*'abc')"
   ]
  },
  {
   "cell_type": "code",
   "execution_count": 13,
   "metadata": {},
   "outputs": [
    {
     "name": "stdout",
     "output_type": "stream",
     "text": [
      "False\n",
      "False\n",
      "True\n"
     ]
    }
   ],
   "source": [
    "#bool运算符 and & or\n",
    "print(2<1 and 1>2)\n",
    "print(2>1 & 1>2)\n",
    "print(2>1 or 1>2)\n"
   ]
  },
  {
   "cell_type": "markdown",
   "metadata": {},
   "source": [
    "list列表变量"
   ]
  },
  {
   "cell_type": "code",
   "execution_count": 14,
   "metadata": {},
   "outputs": [
    {
     "name": "stdout",
     "output_type": "stream",
     "text": [
      "[1, 'abc', 'a', 14.6, [2]]\n"
     ]
    }
   ],
   "source": [
    "#list列表 []新建数组,有序对象，含字符，数字，字符串，列表\n",
    "x1=[1,\"abc\",'a',14.6,[2]]\n",
    "print(x1)"
   ]
  },
  {
   "cell_type": "markdown",
   "metadata": {},
   "source": [
    "list常见操作"
   ]
  },
  {
   "cell_type": "code",
   "execution_count": 16,
   "metadata": {},
   "outputs": [
    {
     "name": "stdout",
     "output_type": "stream",
     "text": [
      "1 [2] [2] 14.6\n"
     ]
    },
    {
     "ename": "IndexError",
     "evalue": "list index out of range",
     "output_type": "error",
     "traceback": [
      "\u001b[1;31m---------------------------------------------------------------------------\u001b[0m",
      "\u001b[1;31mIndexError\u001b[0m                                Traceback (most recent call last)",
      "\u001b[1;32m<ipython-input-16-e935cfb85b34>\u001b[0m in \u001b[0;36m<module>\u001b[1;34m\u001b[0m\n\u001b[0;32m      1\u001b[0m \u001b[1;31m#索引，取列表中某个元素\u001b[0m\u001b[1;33m\u001b[0m\u001b[1;33m\u001b[0m\u001b[1;33m\u001b[0m\u001b[0m\n\u001b[0;32m      2\u001b[0m \u001b[0mprint\u001b[0m\u001b[1;33m(\u001b[0m\u001b[0mx1\u001b[0m\u001b[1;33m[\u001b[0m\u001b[1;36m0\u001b[0m\u001b[1;33m]\u001b[0m\u001b[1;33m,\u001b[0m\u001b[0mx1\u001b[0m\u001b[1;33m[\u001b[0m\u001b[1;33m-\u001b[0m\u001b[1;36m1\u001b[0m\u001b[1;33m]\u001b[0m\u001b[1;33m,\u001b[0m\u001b[0mx1\u001b[0m\u001b[1;33m[\u001b[0m\u001b[1;36m4\u001b[0m\u001b[1;33m]\u001b[0m\u001b[1;33m,\u001b[0m\u001b[0mx1\u001b[0m\u001b[1;33m[\u001b[0m\u001b[1;33m-\u001b[0m\u001b[1;36m2\u001b[0m\u001b[1;33m]\u001b[0m\u001b[1;33m)\u001b[0m\u001b[1;33m\u001b[0m\u001b[1;33m\u001b[0m\u001b[0m\n\u001b[1;32m----> 3\u001b[1;33m \u001b[0mprint\u001b[0m\u001b[1;33m(\u001b[0m\u001b[0mx1\u001b[0m\u001b[1;33m[\u001b[0m\u001b[1;36m5\u001b[0m\u001b[1;33m]\u001b[0m\u001b[1;33m)\u001b[0m\u001b[1;33m\u001b[0m\u001b[1;33m\u001b[0m\u001b[0m\n\u001b[0m",
      "\u001b[1;31mIndexError\u001b[0m: list index out of range"
     ]
    }
   ],
   "source": [
    "#索引，取列表中某个元素\n",
    "print(x1[0],x1[-1],x1[4],x1[-2])\n",
    "print(x1[5])#超出长度报错"
   ]
  },
  {
   "cell_type": "code",
   "execution_count": 18,
   "metadata": {},
   "outputs": [
    {
     "name": "stdout",
     "output_type": "stream",
     "text": [
      "[2, 'abc', 'a', 14.6, [2]]\n"
     ]
    }
   ],
   "source": [
    "x1[0]=2 # 更改某位置元素\n",
    "print(x1)"
   ]
  },
  {
   "cell_type": "code",
   "execution_count": 25,
   "metadata": {},
   "outputs": [
    {
     "name": "stdout",
     "output_type": "stream",
     "text": [
      "['abc', 'a']\n",
      "['abc', 'a', 14.6, [2]]\n",
      "[2, 'abc', 'a']\n",
      "[1, 3, 5]\n",
      "[1, 3, 5, 7]\n"
     ]
    }
   ],
   "source": [
    "# 列表切片，取某段元素\n",
    "print(x1[1:3]) # 取位置1-2上元素\n",
    "print(x1[1:])  # 取位置1之后所有元素\n",
    "print(x1[:3])  # 取位置3前所有元素\n",
    "x2=[1,2,3,4,5,6,7]\n",
    "print(x2[0:6:2]) #在0-5位置上按间隔2取元素\n",
    "print(x2[0:7:2]) #在0-6位置上按间隔2取元素"
   ]
  },
  {
   "cell_type": "code",
   "execution_count": 31,
   "metadata": {},
   "outputs": [
    {
     "name": "stdout",
     "output_type": "stream",
     "text": [
      "[2, 'abc', 'a', 14.6, [2], 1, 2, 3, 4, 5, 6, 7]\n"
     ]
    }
   ],
   "source": [
    "# 两个列表相加\n",
    "print(x1+x2)\n",
    "x3=x1+x2"
   ]
  },
  {
   "cell_type": "code",
   "execution_count": 32,
   "metadata": {},
   "outputs": [
    {
     "name": "stdout",
     "output_type": "stream",
     "text": [
      "True\n",
      "True\n",
      "False\n"
     ]
    }
   ],
   "source": [
    "# 判断一个元素是否在列表中\n",
    "print('abc' in x1)\n",
    "print(1 in x3)\n",
    "print(100 in x3)"
   ]
  },
  {
   "cell_type": "code",
   "execution_count": 35,
   "metadata": {},
   "outputs": [
    {
     "name": "stdout",
     "output_type": "stream",
     "text": [
      "0\n",
      "12\n",
      "7\n"
     ]
    }
   ],
   "source": [
    "# len max min\n",
    "a1=[]\n",
    "print(len(a1)) # 空列表长度为0\n",
    "print(len(x3))\n",
    "print(max(x2))\n",
    "#print(min(x1)) 不同元素不可比较"
   ]
  },
  {
   "cell_type": "code",
   "execution_count": 37,
   "metadata": {},
   "outputs": [
    {
     "name": "stdout",
     "output_type": "stream",
     "text": [
      "5\n"
     ]
    },
    {
     "ename": "ValueError",
     "evalue": "100 is not in list",
     "output_type": "error",
     "traceback": [
      "\u001b[1;31m---------------------------------------------------------------------------\u001b[0m",
      "\u001b[1;31mValueError\u001b[0m                                Traceback (most recent call last)",
      "\u001b[1;32m<ipython-input-37-c9140eac40a0>\u001b[0m in \u001b[0;36m<module>\u001b[1;34m\u001b[0m\n\u001b[0;32m      1\u001b[0m \u001b[1;31m# 找某个元素再列表中位置\u001b[0m\u001b[1;33m\u001b[0m\u001b[1;33m\u001b[0m\u001b[1;33m\u001b[0m\u001b[0m\n\u001b[0;32m      2\u001b[0m \u001b[0mprint\u001b[0m\u001b[1;33m(\u001b[0m\u001b[0mx3\u001b[0m\u001b[1;33m.\u001b[0m\u001b[0mindex\u001b[0m\u001b[1;33m(\u001b[0m\u001b[1;36m1\u001b[0m\u001b[1;33m)\u001b[0m\u001b[1;33m)\u001b[0m\u001b[1;33m\u001b[0m\u001b[1;33m\u001b[0m\u001b[0m\n\u001b[1;32m----> 3\u001b[1;33m \u001b[0mprint\u001b[0m\u001b[1;33m(\u001b[0m\u001b[0mx3\u001b[0m\u001b[1;33m.\u001b[0m\u001b[0mindex\u001b[0m\u001b[1;33m(\u001b[0m\u001b[1;36m100\u001b[0m\u001b[1;33m)\u001b[0m\u001b[1;33m)\u001b[0m\u001b[1;33m\u001b[0m\u001b[1;33m\u001b[0m\u001b[0m\n\u001b[0m",
      "\u001b[1;31mValueError\u001b[0m: 100 is not in list"
     ]
    }
   ],
   "source": [
    "# 找某个元素再列表中位置\n",
    "print(x3.index(1))\n",
    "print(x3.index(100))"
   ]
  },
  {
   "cell_type": "code",
   "execution_count": 43,
   "metadata": {},
   "outputs": [
    {
     "name": "stdout",
     "output_type": "stream",
     "text": [
      "[2, 'abc', 'a', 14.6, [2], 1, 2, 3, 4, 5, 6, 7]\n",
      "[2, 'abc', 'a', 14.6, [2], 1, 2, 3, 4, 5, 6, 7]\n",
      "[2, 'abc', 'a', 14.6, [2], 1, 2, 3, 4, 5, 6, 7, [1, 100]]\n",
      "[2, 'abc', 'a', 14.6, [2], 1, 2, 3, 4, 5, 6, 7, [1, 100], 101, 102, 103]\n"
     ]
    }
   ],
   "source": [
    "# append 和 extend\n",
    "# append 在后方增加一个元素\n",
    "#x3.append([2])\n",
    "print(x3)\n",
    "del x3[12:16]\n",
    "print(x3)\n",
    "x3.append([1,100])\n",
    "print(x3)\n",
    "x3.extend([101,102,103]) # extend相当于列表相加\n",
    "print(x3)"
   ]
  },
  {
   "cell_type": "code",
   "execution_count": 66,
   "metadata": {},
   "outputs": [
    {
     "name": "stdout",
     "output_type": "stream",
     "text": [
      "[299, 100, 101, 102]\n",
      "102\n",
      "[299, 100, 101]\n",
      "[299, 100]\n"
     ]
    }
   ],
   "source": [
    "# 删除元素 del pop()\n",
    "x3=[3,5,'wre',[2,3],299,100,101,102]\n",
    "del x3[:4] # del删除后无法访问\n",
    "print(x3)\n",
    "dele=x3.pop() # pop在删除最后一个元素的基础上去可以进行取值\n",
    "print(dele)\n",
    "print(x3)\n",
    "dele1=x3.pop(2)\n",
    "print(x3)"
   ]
  },
  {
   "cell_type": "code",
   "execution_count": 58,
   "metadata": {},
   "outputs": [
    {
     "name": "stdout",
     "output_type": "stream",
     "text": [
      "[1, 2, 3, 4, 5, 6, 7]\n",
      "[7, 6, 5, 4, 3, 2, 1]\n",
      "[1, 2, 3, 4, 5, 6, 7]\n",
      "[1, 2, 3, 5, 6]\n",
      "[6, 5, 3, 2, 1]\n",
      "[1, 2, 3, 5, 6]\n",
      "[6, 5, 3, 2, 1]\n"
     ]
    }
   ],
   "source": [
    "#排序和逆序 sort reverse\n",
    "print(x2)\n",
    "x2.reverse() # 逆序\n",
    "print(x2)\n",
    "x2.sort() # 顺序排序，从小到大\n",
    "print(x2)\n",
    "a2=[3,5,6,1,2]\n",
    "a2.sort()\n",
    "print(a2)\n",
    "a2.sort(reverse=True) # 从大到小排序 \n",
    "print(a2)\n",
    "print(sorted(a2)) # sort为永久性排序，sorted为临时排序\n",
    "print(a2)"
   ]
  },
  {
   "cell_type": "markdown",
   "metadata": {},
   "source": [
    "dict字典变量\n",
    "\n",
    "使用{}创建，一系列成对对象。一个为key,一个为value，key:value;key为‘’\"\"的字符串类型，value可为数字、字符串、列表、字典类型\n",
    "\n",
    "无顺序，即不能用dict[0]取0位置元素\n",
    "\n",
    "key不能重复，key重复则用最后一个覆盖"
   ]
  },
  {
   "cell_type": "code",
   "execution_count": 2,
   "metadata": {},
   "outputs": [
    {
     "name": "stdout",
     "output_type": "stream",
     "text": [
      "{'abc': '111', 'bhc': 'the'} <class 'dict'>\n",
      "{'1': 123, '2': 789, '3': 901}\n"
     ]
    }
   ],
   "source": [
    "dict_var={\"abc\":'111',\"bhc\":\"the\"}\n",
    "print(dict_var,type(dict_var))\n",
    "dict_ves={'1':123,'2':456,'2':789,'3':901}\n",
    "print(dict_ves)\n",
    "# dict_ves1={'1':123,'2':456,'2':789,'3':021} 0不能作为整数开头，相同的key会覆盖\n",
    "# print(dict_ves1)"
   ]
  },
  {
   "cell_type": "markdown",
   "metadata": {},
   "source": [
    "dict常见操作"
   ]
  },
  {
   "cell_type": "code",
   "execution_count": 7,
   "metadata": {},
   "outputs": [
    {
     "name": "stdout",
     "output_type": "stream",
     "text": [
      "111\n",
      "123\n",
      "the\n"
     ]
    }
   ],
   "source": [
    "# 用key访问字典中对象的value\n",
    "print(dict_var['abc'])\n",
    "print(dict_ves[\"1\"])  # 单引号，双引号不影响取key值\n",
    "print(dict_var.get(\"bhc\"))  # key不存在时，[]方式产生报错，get方式返回None"
   ]
  },
  {
   "cell_type": "code",
   "execution_count": 9,
   "metadata": {},
   "outputs": [
    {
     "name": "stdout",
     "output_type": "stream",
     "text": [
      "{'abc': '111', 'bhc': 'the', 'bch': 'shit'}\n",
      "{'abc': '111', 'bhc': 'the', 'bch': 'shit god'}\n"
     ]
    }
   ],
   "source": [
    "# 增加/修改一对对象,增加顺序不一定\n",
    "dict_var['bch']=\"shit\"\n",
    "print(dict_var)\n",
    "dict_var['bch']=\"shit god\"\n",
    "print(dict_var)"
   ]
  },
  {
   "cell_type": "code",
   "execution_count": 15,
   "metadata": {},
   "outputs": [
    {
     "name": "stdout",
     "output_type": "stream",
     "text": [
      "{'1': 123, '3': 901}\n"
     ]
    }
   ],
   "source": [
    "# 删除对象对\n",
    "dict_ves['2']='989'\n",
    "del dict_ves['2']\n",
    "print(dict_ves) "
   ]
  },
  {
   "cell_type": "code",
   "execution_count": 10,
   "metadata": {},
   "outputs": [
    {
     "name": "stdout",
     "output_type": "stream",
     "text": [
      "True\n"
     ]
    }
   ],
   "source": [
    "# 判断key是否在dict\n",
    "print('bhc'in dict_var)"
   ]
  },
  {
   "cell_type": "code",
   "execution_count": 12,
   "metadata": {
    "scrolled": true
   },
   "outputs": [
    {
     "name": "stdout",
     "output_type": "stream",
     "text": [
      "dict_keys(['abc', 'bhc', 'bch'])\n",
      "dict_values(['111', 'the', 'shit god'])\n"
     ]
    }
   ],
   "source": [
    "# 输出所有key和value\n",
    "print(dict_var.keys())\n",
    "print(dict_var.values())"
   ]
  },
  {
   "cell_type": "markdown",
   "metadata": {},
   "source": [
    "tulpe元组变量-不可变列表 \n",
    "\n",
    "()标识，有顺序，可用索引访问\n"
   ]
  },
  {
   "cell_type": "code",
   "execution_count": 18,
   "metadata": {},
   "outputs": [
    {
     "name": "stdout",
     "output_type": "stream",
     "text": [
      "(100, 2, 34, 56, 78, 'bch') <class 'tuple'>\n"
     ]
    },
    {
     "ename": "TypeError",
     "evalue": "'tuple' object does not support item assignment",
     "output_type": "error",
     "traceback": [
      "\u001b[1;31m---------------------------------------------------------------------------\u001b[0m",
      "\u001b[1;31mTypeError\u001b[0m                                 Traceback (most recent call last)",
      "\u001b[1;32m<ipython-input-18-98dceaa01a6c>\u001b[0m in \u001b[0;36m<module>\u001b[1;34m\u001b[0m\n\u001b[0;32m      1\u001b[0m \u001b[0mdimen\u001b[0m\u001b[1;33m=\u001b[0m\u001b[1;33m(\u001b[0m\u001b[1;36m100\u001b[0m\u001b[1;33m,\u001b[0m\u001b[1;36m2\u001b[0m\u001b[1;33m,\u001b[0m\u001b[1;36m34\u001b[0m\u001b[1;33m,\u001b[0m\u001b[1;36m56\u001b[0m\u001b[1;33m,\u001b[0m\u001b[1;36m78\u001b[0m\u001b[1;33m,\u001b[0m\u001b[1;34m'bch'\u001b[0m\u001b[1;33m)\u001b[0m\u001b[1;33m\u001b[0m\u001b[1;33m\u001b[0m\u001b[0m\n\u001b[0;32m      2\u001b[0m \u001b[0mprint\u001b[0m\u001b[1;33m(\u001b[0m\u001b[0mdimen\u001b[0m\u001b[1;33m,\u001b[0m\u001b[0mtype\u001b[0m\u001b[1;33m(\u001b[0m\u001b[0mdimen\u001b[0m\u001b[1;33m)\u001b[0m\u001b[1;33m)\u001b[0m\u001b[1;33m\u001b[0m\u001b[1;33m\u001b[0m\u001b[0m\n\u001b[1;32m----> 3\u001b[1;33m \u001b[0mdimen\u001b[0m\u001b[1;33m[\u001b[0m\u001b[1;36m2\u001b[0m\u001b[1;33m]\u001b[0m\u001b[1;33m=\u001b[0m\u001b[1;36m90\u001b[0m\u001b[1;33m\u001b[0m\u001b[1;33m\u001b[0m\u001b[0m\n\u001b[0m\u001b[0;32m      4\u001b[0m \u001b[0mprint\u001b[0m\u001b[1;33m(\u001b[0m\u001b[0mdimen\u001b[0m\u001b[1;33m,\u001b[0m\u001b[0mtype\u001b[0m\u001b[1;33m(\u001b[0m\u001b[0mdimen\u001b[0m\u001b[1;33m)\u001b[0m\u001b[1;33m)\u001b[0m\u001b[1;33m\u001b[0m\u001b[1;33m\u001b[0m\u001b[0m\n",
      "\u001b[1;31mTypeError\u001b[0m: 'tuple' object does not support item assignment"
     ]
    }
   ],
   "source": [
    "dimen=(100,2,34,56,78,'bch')\n",
    "print(dimen,type(dimen))\n",
    "dimen[2]=90  #元素不可修改\n",
    "print(dimen,type(dimen))"
   ]
  },
  {
   "cell_type": "code",
   "execution_count": 19,
   "metadata": {},
   "outputs": [
    {
     "name": "stdout",
     "output_type": "stream",
     "text": [
      "(100, 10)\n"
     ]
    }
   ],
   "source": [
    "dimen=(100,10) #可对元组赋值，不可改变其中元素\n",
    "print(dimen)"
   ]
  },
  {
   "cell_type": "markdown",
   "metadata": {},
   "source": [
    "字符串相关操作\n"
   ]
  },
  {
   "cell_type": "code",
   "execution_count": 26,
   "metadata": {},
   "outputs": [
    {
     "name": "stdout",
     "output_type": "stream",
     "text": [
      "what's wrong\n",
      "what's wrong\t\n",
      "\\\n",
      "what\\'s wrong\\t\n"
     ]
    }
   ],
   "source": [
    "# 字符串转义 输出字符串中特殊字符\n",
    "# print('what's wrong')\n",
    "print(\"what's wrong\") #单引号双引号交叉使用\n",
    "print('what\\'s wrong\\t')  #使用\\转义 \\t为制表符\n",
    "print('\\\\')\n",
    "print(r'what\\'s wrong\\t')  #不进行转义"
   ]
  },
  {
   "cell_type": "code",
   "execution_count": 27,
   "metadata": {},
   "outputs": [
    {
     "name": "stdout",
     "output_type": "stream",
     "text": [
      "todayone\n",
      "oneone\n"
     ]
    }
   ],
   "source": [
    "# 字符串相加、相乘\n",
    "simple='today'\n",
    "sample='one'\n",
    "print(simple+sample)\n",
    "print(sample*2)"
   ]
  },
  {
   "cell_type": "code",
   "execution_count": 31,
   "metadata": {},
   "outputs": [
    {
     "name": "stdout",
     "output_type": "stream",
     "text": [
      "True\n",
      "True\n"
     ]
    }
   ],
   "source": [
    "# startswith endswith  判断字符串的开头结尾字符是否一致\n",
    "print(simple.startswith('to'))\n",
    "print(simple.endswith('y'))"
   ]
  },
  {
   "cell_type": "code",
   "execution_count": 33,
   "metadata": {},
   "outputs": [
    {
     "name": "stdout",
     "output_type": "stream",
     "text": [
      "False\n",
      "True\n"
     ]
    }
   ],
   "source": [
    "# 判断字符串是否包含\n",
    "print('ne'in simple)\n",
    "print('ne'in sample)"
   ]
  },
  {
   "cell_type": "code",
   "execution_count": 37,
   "metadata": {},
   "outputs": [
    {
     "name": "stdout",
     "output_type": "stream",
     "text": [
      "stest\n",
      "we are the one the world\n",
      "we are the world,the world\n"
     ]
    }
   ],
   "source": [
    "# 字符串替换\n",
    "symbol='start'\n",
    "print(symbol.replace('ar','es'))\n",
    "print('we are the one','the one'.replace('one','world'))\n",
    "print('we are the one,the one'.replace('one','world'))"
   ]
  },
  {
   "cell_type": "code",
   "execution_count": 42,
   "metadata": {},
   "outputs": [
    {
     "name": "stdout",
     "output_type": "stream",
     "text": [
      "['start', 'one', 'today']\n",
      "today\n",
      "start\tone\ttoday\n"
     ]
    }
   ],
   "source": [
    "# split 根据某个参数将字符串分割为一个列表  join为split逆操作，列表合并为字符串\n",
    "symbol='start,one,today'\n",
    "print(symbol.split(',')) # 以，进行分割\n",
    "print(symbol.split(',')[2]) # 顺序访问列表\n",
    "symbol1=['start','one','today']\n",
    "print('\\t'.join(symbol1)) # 以制表符连接列表"
   ]
  },
  {
   "cell_type": "code",
   "execution_count": 47,
   "metadata": {},
   "outputs": [
    {
     "name": "stdout",
     "output_type": "stream",
     "text": [
      "start,one,today\n",
      "start,one,toda\n"
     ]
    }
   ],
   "source": [
    "# strip 去除一头一尾\n",
    "symbol='start,one,today'\n",
    "print(symbol)\n",
    "# print(symbol.strip()) 去除头尾空格\n",
    "print(symbol.strip('y')) # 去除头尾某元素"
   ]
  },
  {
   "cell_type": "code",
   "execution_count": 50,
   "metadata": {},
   "outputs": [
    {
     "name": "stdout",
     "output_type": "stream",
     "text": [
      "a\n",
      "sta\n",
      "rt,one,today\n"
     ]
    }
   ],
   "source": [
    "# 字符串选取，类似list切片\n",
    "print(symbol[2])\n",
    "print(symbol[:3])\n",
    "print(symbol[3:])"
   ]
  },
  {
   "cell_type": "code",
   "execution_count": null,
   "metadata": {},
   "outputs": [],
   "source": []
  }
 ],
 "metadata": {
  "kernelspec": {
   "display_name": "Python 3",
   "language": "python",
   "name": "python3"
  },
  "language_info": {
   "codemirror_mode": {
    "name": "ipython",
    "version": 3
   },
   "file_extension": ".py",
   "mimetype": "text/x-python",
   "name": "python",
   "nbconvert_exporter": "python",
   "pygments_lexer": "ipython3",
   "version": "3.7.4"
  }
 },
 "nbformat": 4,
 "nbformat_minor": 2
}
