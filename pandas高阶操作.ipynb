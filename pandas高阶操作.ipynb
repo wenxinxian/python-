{
 "cells": [
  {
   "cell_type": "markdown",
   "metadata": {},
   "source": [
    "pandas高阶操作"
   ]
  },
  {
   "cell_type": "markdown",
   "metadata": {},
   "source": [
    "A.批量导入数据"
   ]
  },
  {
   "cell_type": "code",
   "execution_count": 5,
   "metadata": {},
   "outputs": [],
   "source": [
    "import pandas as pd\n",
    "import os # 自带库os导入\n",
    "\n",
    "# 使用os.walk，遍历文件夹中所有文件\n",
    "# for root,dirs,files in os.walk('D:/Users/wen18/Desktop/graduate study/python/coin_quant/coin_quant_class/data/class6/BITFINEX/EOSUSD'): \n",
    "# # 文件夹层层遍历\n",
    "# # root输出文件夹,dirs输出root下所有文件夹,flie输出文件名,类型为列表中字符串\n",
    "#     print('root:',root)\n",
    "#     print('dirs:',dirs)\n",
    "#     print('files:',files)\n"
   ]
  },
  {
   "cell_type": "code",
   "execution_count": 6,
   "metadata": {},
   "outputs": [
    {
     "name": "stdout",
     "output_type": "stream",
     "text": [
      "D:/Users/wen18/Desktop/graduate study/python/coin_quant/coin_quant_class/data/class6/BITFINEX/EOSUSD\n"
     ]
    }
   ],
   "source": [
    "temp='D:/Users\\wen18\\Desktop\\graduate study\\python\\coin_quant\\coin_quant_class\\data\\class6\\BITFINEX\\EOSUSD'\n",
    "print(temp.replace('\\\\','/'))"
   ]
  },
  {
   "cell_type": "code",
   "execution_count": 10,
   "metadata": {},
   "outputs": [
    {
     "name": "stdout",
     "output_type": "stream",
     "text": [
      "['BITFINEX_EOSUSD_20170701_1T.csv', 'BITFINEX_EOSUSD_20170702_1T.csv', 'BITFINEX_EOSUSD_20170703_1T.csv', 'BITFINEX_EOSUSD_20170704_1T.csv', 'BITFINEX_EOSUSD_20170705_1T.csv', 'BITFINEX_EOSUSD_20170706_1T.csv', 'BITFINEX_EOSUSD_20170707_1T.csv', 'BITFINEX_EOSUSD_20170708_1T.csv', 'BITFINEX_EOSUSD_20170709_1T.csv', 'BITFINEX_EOSUSD_20170710_1T.csv', 'BITFINEX_EOSUSD_20170711_1T.csv', 'BITFINEX_EOSUSD_20170712_1T.csv', 'BITFINEX_EOSUSD_20170713_1T.csv', 'BITFINEX_EOSUSD_20170714_1T.csv', 'BITFINEX_EOSUSD_20170715_1T.csv', 'BITFINEX_EOSUSD_20170716_1T.csv', 'BITFINEX_EOSUSD_20170717_1T.csv', 'BITFINEX_EOSUSD_20170718_1T.csv', 'BITFINEX_EOSUSD_20170719_1T.csv', 'BITFINEX_EOSUSD_20170720_1T.csv', 'BITFINEX_EOSUSD_20170721_1T.csv', 'BITFINEX_EOSUSD_20170722_1T.csv', 'BITFINEX_EOSUSD_20170723_1T.csv', 'BITFINEX_EOSUSD_20170724_1T.csv', 'BITFINEX_EOSUSD_20170725_1T.csv', 'BITFINEX_EOSUSD_20170726_1T.csv', 'BITFINEX_EOSUSD_20170727_1T.csv', 'BITFINEX_EOSUSD_20170728_1T.csv', 'BITFINEX_EOSUSD_20170729_1T.csv', 'BITFINEX_EOSUSD_20170730_1T.csv', 'BITFINEX_EOSUSD_20170731_1T.csv', 'BITFINEX_EOSUSD_20170801_1T.csv', 'BITFINEX_EOSUSD_20170802_1T.csv', 'BITFINEX_EOSUSD_20170803_1T.csv', 'BITFINEX_EOSUSD_20170804_1T.csv', 'BITFINEX_EOSUSD_20170805_1T.csv', 'BITFINEX_EOSUSD_20170806_1T.csv', 'BITFINEX_EOSUSD_20170807_1T.csv', 'BITFINEX_EOSUSD_20170808_1T.csv', 'BITFINEX_EOSUSD_20170809_1T.csv', 'BITFINEX_EOSUSD_20170810_1T.csv', 'BITFINEX_EOSUSD_20170811_1T.csv', 'BITFINEX_EOSUSD_20170812_1T.csv', 'BITFINEX_EOSUSD_20170813_1T.csv', 'BITFINEX_EOSUSD_20170814_1T.csv', 'BITFINEX_EOSUSD_20170815_1T.csv', 'BITFINEX_EOSUSD_20170816_1T.csv', 'BITFINEX_EOSUSD_20170817_1T.csv', 'BITFINEX_EOSUSD_20170818_1T.csv', 'BITFINEX_EOSUSD_20170819_1T.csv', 'BITFINEX_EOSUSD_20170820_1T.csv', 'BITFINEX_EOSUSD_20170821_1T.csv', 'BITFINEX_EOSUSD_20170822_1T.csv', 'BITFINEX_EOSUSD_20170823_1T.csv', 'BITFINEX_EOSUSD_20170824_1T.csv', 'BITFINEX_EOSUSD_20170825_1T.csv', 'BITFINEX_EOSUSD_20170826_1T.csv', 'BITFINEX_EOSUSD_20170827_1T.csv', 'BITFINEX_EOSUSD_20170828_1T.csv', 'BITFINEX_EOSUSD_20170829_1T.csv', 'BITFINEX_EOSUSD_20170830_1T.csv', 'BITFINEX_EOSUSD_20170831_1T.csv', 'BITFINEX_EOSUSD_20170901_1T.csv', 'BITFINEX_EOSUSD_20170902_1T.csv', 'BITFINEX_EOSUSD_20170903_1T.csv', 'BITFINEX_EOSUSD_20170904_1T.csv', 'BITFINEX_EOSUSD_20170905_1T.csv', 'BITFINEX_EOSUSD_20170906_1T.csv', 'BITFINEX_EOSUSD_20170907_1T.csv', 'BITFINEX_EOSUSD_20170908_1T.csv', 'BITFINEX_EOSUSD_20170909_1T.csv', 'BITFINEX_EOSUSD_20170910_1T.csv', 'BITFINEX_EOSUSD_20170911_1T.csv', 'BITFINEX_EOSUSD_20170912_1T.csv', 'BITFINEX_EOSUSD_20170913_1T.csv', 'BITFINEX_EOSUSD_20170914_1T.csv', 'BITFINEX_EOSUSD_20170915_1T.csv', 'BITFINEX_EOSUSD_20170916_1T.csv', 'BITFINEX_EOSUSD_20170917_1T.csv', 'BITFINEX_EOSUSD_20170918_1T.csv', 'BITFINEX_EOSUSD_20170919_1T.csv', 'BITFINEX_EOSUSD_20170920_1T.csv', 'BITFINEX_EOSUSD_20170921_1T.csv', 'BITFINEX_EOSUSD_20170922_1T.csv', 'BITFINEX_EOSUSD_20170923_1T.csv', 'BITFINEX_EOSUSD_20170924_1T.csv', 'BITFINEX_EOSUSD_20170925_1T.csv', 'BITFINEX_EOSUSD_20170926_1T.csv', 'BITFINEX_EOSUSD_20170927_1T.csv', 'BITFINEX_EOSUSD_20170928_1T.csv', 'BITFINEX_EOSUSD_20170929_1T.csv', 'BITFINEX_EOSUSD_20170930_1T.csv', 'BITFINEX_EOSUSD_20171001_1T.csv', 'BITFINEX_EOSUSD_20171002_1T.csv', 'BITFINEX_EOSUSD_20171003_1T.csv', 'BITFINEX_EOSUSD_20171004_1T.csv', 'BITFINEX_EOSUSD_20171005_1T.csv', 'BITFINEX_EOSUSD_20171006_1T.csv', 'BITFINEX_EOSUSD_20171007_1T.csv', 'BITFINEX_EOSUSD_20171008_1T.csv', 'BITFINEX_EOSUSD_20171009_1T.csv', 'BITFINEX_EOSUSD_20171010_1T.csv', 'BITFINEX_EOSUSD_20171011_1T.csv', 'BITFINEX_EOSUSD_20171012_1T.csv', 'BITFINEX_EOSUSD_20171013_1T.csv', 'BITFINEX_EOSUSD_20171014_1T.csv', 'BITFINEX_EOSUSD_20171015_1T.csv', 'BITFINEX_EOSUSD_20171016_1T.csv', 'BITFINEX_EOSUSD_20171017_1T.csv', 'BITFINEX_EOSUSD_20171018_1T.csv', 'BITFINEX_EOSUSD_20171019_1T.csv', 'BITFINEX_EOSUSD_20171020_1T.csv', 'BITFINEX_EOSUSD_20171021_1T.csv', 'BITFINEX_EOSUSD_20171022_1T.csv', 'BITFINEX_EOSUSD_20171023_1T.csv', 'BITFINEX_EOSUSD_20171024_1T.csv', 'BITFINEX_EOSUSD_20171025_1T.csv', 'BITFINEX_EOSUSD_20171026_1T.csv', 'BITFINEX_EOSUSD_20171027_1T.csv', 'BITFINEX_EOSUSD_20171028_1T.csv', 'BITFINEX_EOSUSD_20171029_1T.csv', 'BITFINEX_EOSUSD_20171030_1T.csv', 'BITFINEX_EOSUSD_20171031_1T.csv', 'BITFINEX_EOSUSD_20171101_1T.csv', 'BITFINEX_EOSUSD_20171102_1T.csv', 'BITFINEX_EOSUSD_20171103_1T.csv', 'BITFINEX_EOSUSD_20171104_1T.csv', 'BITFINEX_EOSUSD_20171105_1T.csv', 'BITFINEX_EOSUSD_20171106_1T.csv', 'BITFINEX_EOSUSD_20171107_1T.csv', 'BITFINEX_EOSUSD_20171108_1T.csv', 'BITFINEX_EOSUSD_20171109_1T.csv', 'BITFINEX_EOSUSD_20171110_1T.csv', 'BITFINEX_EOSUSD_20171111_1T.csv', 'BITFINEX_EOSUSD_20171112_1T.csv', 'BITFINEX_EOSUSD_20171113_1T.csv', 'BITFINEX_EOSUSD_20171114_1T.csv', 'BITFINEX_EOSUSD_20171115_1T.csv', 'BITFINEX_EOSUSD_20171116_1T.csv', 'BITFINEX_EOSUSD_20171117_1T.csv', 'BITFINEX_EOSUSD_20171118_1T.csv', 'BITFINEX_EOSUSD_20171119_1T.csv', 'BITFINEX_EOSUSD_20171120_1T.csv', 'BITFINEX_EOSUSD_20171121_1T.csv', 'BITFINEX_EOSUSD_20171122_1T.csv', 'BITFINEX_EOSUSD_20171123_1T.csv', 'BITFINEX_EOSUSD_20171124_1T.csv', 'BITFINEX_EOSUSD_20171125_1T.csv', 'BITFINEX_EOSUSD_20171126_1T.csv', 'BITFINEX_EOSUSD_20171127_1T.csv', 'BITFINEX_EOSUSD_20171128_1T.csv', 'BITFINEX_EOSUSD_20171129_1T.csv', 'BITFINEX_EOSUSD_20171130_1T.csv', 'BITFINEX_EOSUSD_20171201_1T.csv', 'BITFINEX_EOSUSD_20171202_1T.csv', 'BITFINEX_EOSUSD_20171203_1T.csv', 'BITFINEX_EOSUSD_20171204_1T.csv', 'BITFINEX_EOSUSD_20171205_1T.csv', 'BITFINEX_EOSUSD_20171206_1T.csv', 'BITFINEX_EOSUSD_20171207_1T.csv', 'BITFINEX_EOSUSD_20171208_1T.csv', 'BITFINEX_EOSUSD_20171209_1T.csv', 'BITFINEX_EOSUSD_20171210_1T.csv', 'BITFINEX_EOSUSD_20171211_1T.csv', 'BITFINEX_EOSUSD_20171212_1T.csv', 'BITFINEX_EOSUSD_20171213_1T.csv', 'BITFINEX_EOSUSD_20171214_1T.csv', 'BITFINEX_EOSUSD_20171215_1T.csv', 'BITFINEX_EOSUSD_20171216_1T.csv', 'BITFINEX_EOSUSD_20171217_1T.csv', 'BITFINEX_EOSUSD_20171218_1T.csv', 'BITFINEX_EOSUSD_20171219_1T.csv', 'BITFINEX_EOSUSD_20171220_1T.csv', 'BITFINEX_EOSUSD_20171221_1T.csv', 'BITFINEX_EOSUSD_20171222_1T.csv', 'BITFINEX_EOSUSD_20171223_1T.csv', 'BITFINEX_EOSUSD_20171224_1T.csv', 'BITFINEX_EOSUSD_20171225_1T.csv', 'BITFINEX_EOSUSD_20171226_1T.csv', 'BITFINEX_EOSUSD_20171227_1T.csv', 'BITFINEX_EOSUSD_20171228_1T.csv', 'BITFINEX_EOSUSD_20171229_1T.csv', 'BITFINEX_EOSUSD_20171230_1T.csv', 'BITFINEX_EOSUSD_20171231_1T.csv', 'BITFINEX_EOSUSD_20180101_1T.csv', 'BITFINEX_EOSUSD_20180102_1T.csv', 'BITFINEX_EOSUSD_20180103_1T.csv', 'BITFINEX_EOSUSD_20180104_1T.csv', 'BITFINEX_EOSUSD_20180105_1T.csv', 'BITFINEX_EOSUSD_20180106_1T.csv', 'BITFINEX_EOSUSD_20180107_1T.csv', 'BITFINEX_EOSUSD_20180108_1T.csv', 'BITFINEX_EOSUSD_20180109_1T.csv', 'BITFINEX_EOSUSD_20180110_1T.csv', 'BITFINEX_EOSUSD_20180111_1T.csv', 'BITFINEX_EOSUSD_20180112_1T.csv', 'BITFINEX_EOSUSD_20180113_1T.csv', 'BITFINEX_EOSUSD_20180114_1T.csv', 'BITFINEX_EOSUSD_20180115_1T.csv', 'BITFINEX_EOSUSD_20180116_1T.csv', 'BITFINEX_EOSUSD_20180117_1T.csv', 'BITFINEX_EOSUSD_20180118_1T.csv', 'BITFINEX_EOSUSD_20180119_1T.csv', 'BITFINEX_EOSUSD_20180120_1T.csv', 'BITFINEX_EOSUSD_20180121_1T.csv', 'BITFINEX_EOSUSD_20180122_1T.csv', 'BITFINEX_EOSUSD_20180123_1T.csv', 'BITFINEX_EOSUSD_20180124_1T.csv', 'BITFINEX_EOSUSD_20180125_1T.csv', 'BITFINEX_EOSUSD_20180126_1T.csv', 'BITFINEX_EOSUSD_20180127_1T.csv', 'BITFINEX_EOSUSD_20180128_1T.csv', 'BITFINEX_EOSUSD_20180129_1T.csv', 'BITFINEX_EOSUSD_20180130_1T.csv', 'BITFINEX_EOSUSD_20180131_1T.csv', 'BITFINEX_EOSUSD_20180201_1T.csv', 'BITFINEX_EOSUSD_20180202_1T.csv', 'BITFINEX_EOSUSD_20180203_1T.csv', 'BITFINEX_EOSUSD_20180204_1T.csv', 'BITFINEX_EOSUSD_20180205_1T.csv', 'BITFINEX_EOSUSD_20180206_1T.csv', 'BITFINEX_EOSUSD_20180207_1T.csv', 'BITFINEX_EOSUSD_20180208_1T.csv', 'BITFINEX_EOSUSD_20180209_1T.csv', 'BITFINEX_EOSUSD_20180210_1T.csv', 'BITFINEX_EOSUSD_20180211_1T.csv', 'BITFINEX_EOSUSD_20180212_1T.csv', 'BITFINEX_EOSUSD_20180213_1T.csv', 'BITFINEX_EOSUSD_20180214_1T.csv', 'BITFINEX_EOSUSD_20180215_1T.csv', 'BITFINEX_EOSUSD_20180216_1T.csv', 'BITFINEX_EOSUSD_20180217_1T.csv', 'BITFINEX_EOSUSD_20180218_1T.csv', 'BITFINEX_EOSUSD_20180219_1T.csv', 'BITFINEX_EOSUSD_20180220_1T.csv', 'BITFINEX_EOSUSD_20180221_1T.csv', 'BITFINEX_EOSUSD_20180222_1T.csv', 'BITFINEX_EOSUSD_20180223_1T.csv', 'BITFINEX_EOSUSD_20180224_1T.csv', 'BITFINEX_EOSUSD_20180225_1T.csv', 'BITFINEX_EOSUSD_20180226_1T.csv', 'BITFINEX_EOSUSD_20180227_1T.csv', 'BITFINEX_EOSUSD_20180228_1T.csv', 'BITFINEX_EOSUSD_20180301_1T.csv', 'BITFINEX_EOSUSD_20180302_1T.csv', 'BITFINEX_EOSUSD_20180303_1T.csv', 'BITFINEX_EOSUSD_20180304_1T.csv', 'BITFINEX_EOSUSD_20180305_1T.csv', 'BITFINEX_EOSUSD_20180306_1T.csv', 'BITFINEX_EOSUSD_20180307_1T.csv', 'BITFINEX_EOSUSD_20180308_1T.csv', 'BITFINEX_EOSUSD_20180309_1T.csv', 'BITFINEX_EOSUSD_20180310_1T.csv', 'BITFINEX_EOSUSD_20180311_1T.csv', 'BITFINEX_EOSUSD_20180312_1T.csv', 'BITFINEX_EOSUSD_20180313_1T.csv', 'BITFINEX_EOSUSD_20180314_1T.csv', 'BITFINEX_EOSUSD_20180315_1T.csv', 'BITFINEX_EOSUSD_20180316_1T.csv', 'BITFINEX_EOSUSD_20180317_1T.csv', 'BITFINEX_EOSUSD_20180318_1T.csv', 'BITFINEX_EOSUSD_20180319_1T.csv', 'BITFINEX_EOSUSD_20180320_1T.csv', 'BITFINEX_EOSUSD_20180321_1T.csv']\n"
     ]
    }
   ],
   "source": [
    "# 取所有文件名（pd.read_csv导入时需要具体文件名）\n",
    "file_name=[]\n",
    "for root,dirs,files in os.walk('D:/Users/wen18/Desktop/graduate study/python/coin_quant/coin_quant_class/data/class6/BITFINEX/EOSUSD'):\n",
    "    for f in files:   # files为列表类型\n",
    "        if f.endswith('.csv'):\n",
    "            file_name.append(f)\n",
    "        \n",
    "print(file_name)"
   ]
  },
  {
   "cell_type": "code",
   "execution_count": 15,
   "metadata": {},
   "outputs": [
    {
     "name": "stdout",
     "output_type": "stream",
     "text": [
      "                       open    high     low   close        volume\n",
      "candle_begin_time                                                \n",
      "2017-07-01 16:59:00  1.2000  1.2000  1.2000  1.2000   2366.619400\n",
      "2017-07-01 17:01:00  1.4000  1.4000  1.3900  1.3900   1130.640508\n",
      "2017-07-01 17:02:00  1.1000  1.2500  1.1000  1.2500    234.247511\n",
      "2017-07-01 17:03:00  1.2000  1.2500  1.1000  1.1100   2224.674241\n",
      "2017-07-01 17:04:00  1.1000  1.1000  1.0000  1.0000   4301.678248\n",
      "...                     ...     ...     ...     ...           ...\n",
      "2018-03-21 23:55:00  6.9260  6.9385  6.9111  6.9111  28172.175372\n",
      "2018-03-21 23:56:00  6.9103  6.9200  6.9069  6.9132   3093.501995\n",
      "2018-03-21 23:57:00  6.9132  6.9178  6.9000  6.9000   3862.860999\n",
      "2018-03-21 23:58:00  6.8996  6.9000  6.8801  6.8840   7664.902456\n",
      "2018-03-21 23:59:00  6.8954  6.8954  6.8856  6.8950   1741.239678\n",
      "\n",
      "[326977 rows x 5 columns]\n"
     ]
    }
   ],
   "source": [
    "# 数据导入\n",
    "data_all=pd.DataFrame()  # 新建空df\n",
    "for i in file_name:\n",
    "    df=pd.read_csv(\n",
    "    filepath_or_buffer='D:/Users/wen18/Desktop/graduate study/python/coin_quant/coin_quant_class/data/class6/BITFINEX/EOSUSD/'+i,\n",
    "    skiprows=1,\n",
    "    index_col=['candle_begin_time']\n",
    "    )\n",
    "#     print(df)  # 导入数据无误\n",
    "#     data_all.append(df) dataframe类型append用法有误\n",
    "    data_all=data_all.append(df) # 合并数据 ,导入数据太多内存可能溢出\n",
    "print(data_all)"
   ]
  },
  {
   "cell_type": "code",
   "execution_count": 17,
   "metadata": {},
   "outputs": [
    {
     "name": "stdout",
     "output_type": "stream",
     "text": [
      "                       open    high     low   close        volume\n",
      "candle_begin_time                                                \n",
      "2017-07-01 16:59:00  1.2000  1.2000  1.2000  1.2000   2366.619400\n",
      "2017-07-01 17:01:00  1.4000  1.4000  1.3900  1.3900   1130.640508\n",
      "2017-07-01 17:02:00  1.1000  1.2500  1.1000  1.2500    234.247511\n",
      "2017-07-01 17:03:00  1.2000  1.2500  1.1000  1.1100   2224.674241\n",
      "2017-07-01 17:04:00  1.1000  1.1000  1.0000  1.0000   4301.678248\n",
      "...                     ...     ...     ...     ...           ...\n",
      "2018-03-21 23:55:00  6.9260  6.9385  6.9111  6.9111  28172.175372\n",
      "2018-03-21 23:56:00  6.9103  6.9200  6.9069  6.9132   3093.501995\n",
      "2018-03-21 23:57:00  6.9132  6.9178  6.9000  6.9000   3862.860999\n",
      "2018-03-21 23:58:00  6.8996  6.9000  6.8801  6.8840   7664.902456\n",
      "2018-03-21 23:59:00  6.8954  6.8954  6.8856  6.8950   1741.239678\n",
      "\n",
      "[326977 rows x 5 columns]\n"
     ]
    }
   ],
   "source": [
    "# 排序\n",
    "data_all.sort_values(by=['candle_begin_time'])\n",
    "print(data_all)"
   ]
  },
  {
   "cell_type": "code",
   "execution_count": 18,
   "metadata": {},
   "outputs": [],
   "source": [
    "# 保存数据（本地）\n",
    "data_all.to_csv('data_all')"
   ]
  },
  {
   "cell_type": "markdown",
   "metadata": {},
   "source": [
    "B.HDF5文件\n",
    "\n",
    "存入读取速度更快,相当于数据库的使用，批量导入时一个库（key）中有多张表"
   ]
  },
  {
   "cell_type": "code",
   "execution_count": 20,
   "metadata": {},
   "outputs": [],
   "source": [
    "# 数据导入HDF文件\n",
    "data_all.to_hdf(\n",
    "    'D:/Users/wen18/Desktop/graduate study/python/coin_quant/coin_quant_class/data/class6/eos_hdf.h5', \n",
    "    # .h5后缀为hdf文件\n",
    "    key='data_all',  # 表名称\n",
    "    mode='w' # w为写入，可覆盖\n",
    ")"
   ]
  },
  {
   "cell_type": "code",
   "execution_count": 21,
   "metadata": {},
   "outputs": [],
   "source": [
    "# 读取数据\n",
    "df=pd.read_hdf(\n",
    "    'D:/Users/wen18/Desktop/graduate study/python/coin_quant/coin_quant_class/data/class6/eos_hdf.h5',\n",
    "    key='data_all'\n",
    ")"
   ]
  },
  {
   "cell_type": "code",
   "execution_count": 27,
   "metadata": {
    "scrolled": true
   },
   "outputs": [],
   "source": [
    "# 创建HDF文件\n",
    "file_h5=pd.HDFStore('D:/Users/wen18/Desktop/graduate study/python/coin_quant/coin_quant_class/data/class6/eos_hdf_store.h5',mode='w')\n",
    "# 空文件\n",
    "\n",
    "# 批量导入和存取\n",
    "for file in file_name:\n",
    "    # 字符串以“_”分割为列表，同时取列表中第三个元素为date\n",
    "    date=file.split('_')[2]  \n",
    "    # 数据导入\n",
    "    df=pd.read_csv(\n",
    "    filepath_or_buffer='D:/Users/wen18/Desktop/graduate study/python/coin_quant/coin_quant_class/data/class6/BITFINEX/EOSUSD/'+file,\n",
    "    skiprows=1,\n",
    "    parse_dates=['candle_begin_time']\n",
    "    )\n",
    "    # 分表存储\n",
    "    file_h5['eoc_'+date]=df\n",
    "    \n",
    "print(file_h5)\n",
    "\n",
    "# 关闭hdf文件\n",
    "file_h5.close()"
   ]
  },
  {
   "cell_type": "code",
   "execution_count": 32,
   "metadata": {},
   "outputs": [
    {
     "name": "stdout",
     "output_type": "stream",
     "text": [
      "       candle_begin_time    open    high     low   close       volume\n",
      "0    2017-07-15 00:00:00  1.5190  1.5274  1.5190  1.5264   206.000000\n",
      "1    2017-07-15 00:03:00  1.5106  1.5106  1.5106  1.5106     5.999000\n",
      "2    2017-07-15 00:07:00  1.5105  1.5227  1.5105  1.5227    51.938543\n",
      "3    2017-07-15 00:08:00  1.5101  1.5101  1.5101  1.5101    19.176611\n",
      "4    2017-07-15 00:09:00  1.5118  1.5118  1.5118  1.5118     0.010000\n",
      "...                  ...     ...     ...     ...     ...          ...\n",
      "1195 2017-07-15 23:54:00  1.2940  1.2940  1.2903  1.2906   359.461613\n",
      "1196 2017-07-15 23:55:00  1.2938  1.2938  1.2902  1.2902  1912.890058\n",
      "1197 2017-07-15 23:56:00  1.2902  1.2927  1.2902  1.2902  1926.334226\n",
      "1198 2017-07-15 23:57:00  1.2909  1.2940  1.2902  1.2902  1249.557299\n",
      "1199 2017-07-15 23:58:00  1.2941  1.3000  1.2938  1.3000   927.302405\n",
      "\n",
      "[1200 rows x 6 columns]\n",
      "       candle_begin_time    open    high     low   close       volume\n",
      "0    2017-07-17 00:00:00  1.2323  1.2450  1.2323  1.2450   834.478132\n",
      "1    2017-07-17 00:01:00  1.2450  1.2450  1.2390  1.2390  6829.792739\n",
      "2    2017-07-17 00:02:00  1.2391  1.2450  1.2385  1.2450  3796.729050\n",
      "3    2017-07-17 00:03:00  1.2450  1.2450  1.2449  1.2449  1015.815283\n",
      "4    2017-07-17 00:04:00  1.2450  1.2480  1.2450  1.2480   885.830770\n",
      "...                  ...     ...     ...     ...     ...          ...\n",
      "1302 2017-07-17 23:55:00  1.5401  1.5500  1.5401  1.5414  1153.034631\n",
      "1303 2017-07-17 23:56:00  1.5594  1.5597  1.5500  1.5597  1917.489746\n",
      "1304 2017-07-17 23:57:00  1.5596  1.5596  1.5593  1.5593  1757.710788\n",
      "1305 2017-07-17 23:58:00  1.5613  1.5613  1.5500  1.5500    94.065628\n",
      "1306 2017-07-17 23:59:00  1.5789  1.5789  1.5551  1.5551  4347.445387\n",
      "\n",
      "[1307 rows x 6 columns]\n"
     ]
    }
   ],
   "source": [
    "# 读取hdf文件\n",
    "\n",
    "# 创建新hdf文件\n",
    "tile_h5=pd.HDFStore(\n",
    "    'D:/Users/wen18/Desktop/graduate study/python/coin_quant/coin_quant_class/data/class6/eos_hdf_store.h5',\n",
    "    mode='r'\n",
    ")\n",
    "\n",
    "# 查看表信息\n",
    "# print(tile_h5.keys())\n",
    "\n",
    "# 读取某张表,类似字典中key与value\n",
    "print(tile_h5.get('eoc_20170715'))\n",
    "print(tile_h5['eoc_20170717'])\n",
    "\n",
    "file_h5.close()"
   ]
  },
  {
   "cell_type": "code",
   "execution_count": null,
   "metadata": {},
   "outputs": [],
   "source": []
  }
 ],
 "metadata": {
  "kernelspec": {
   "display_name": "Python 3",
   "language": "python",
   "name": "python3"
  },
  "language_info": {
   "codemirror_mode": {
    "name": "ipython",
    "version": 3
   },
   "file_extension": ".py",
   "mimetype": "text/x-python",
   "name": "python",
   "nbconvert_exporter": "python",
   "pygments_lexer": "ipython3",
   "version": "3.7.4"
  }
 },
 "nbformat": 4,
 "nbformat_minor": 2
}
