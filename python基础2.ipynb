{
 "cells": [
  {
   "cell_type": "markdown",
   "metadata": {},
   "source": [
    "python入门基础\n",
    "\n",
    "C.函数和异常处理"
   ]
  },
  {
   "cell_type": "markdown",
   "metadata": {},
   "source": [
    "基本函数定义\n",
    "\n",
    "def 函数名（参数1，参数2='默认参数'，...）：\n",
    "\n",
    "    函数内容（tab缩进）\n",
    "    \n",
    "    return 变量1，变量2，...（缩进）"
   ]
  },
  {
   "cell_type": "code",
   "execution_count": 7,
   "metadata": {},
   "outputs": [
    {
     "name": "stdout",
     "output_type": "stream",
     "text": [
      "the sun shine\n",
      "way sun hello\n",
      "finish\n"
     ]
    }
   ],
   "source": [
    "#定义函数\n",
    "def print_var(a,b,c='hello'):\n",
    "    print(a,b,c)\n",
    "   # print(b)\n",
    "    return 'finish'\n",
    "#函数调用\n",
    "#print_var('the','sun')\n",
    "print_var('the','sun','shine')\n",
    "temp=print_var('way','sun')\n",
    "print(temp)"
   ]
  },
  {
   "cell_type": "code",
   "execution_count": 3,
   "metadata": {},
   "outputs": [
    {
     "ename": "SyntaxError",
     "evalue": "non-default argument follows default argument (<ipython-input-3-a6b58b7893e2>, line 1)",
     "output_type": "error",
     "traceback": [
      "\u001b[1;36m  File \u001b[1;32m\"<ipython-input-3-a6b58b7893e2>\"\u001b[1;36m, line \u001b[1;32m1\u001b[0m\n\u001b[1;33m    def print_var(a='hello',b,c):\u001b[0m\n\u001b[1;37m                 ^\u001b[0m\n\u001b[1;31mSyntaxError\u001b[0m\u001b[1;31m:\u001b[0m non-default argument follows default argument\n"
     ]
    }
   ],
   "source": [
    "def print_var(a='hello',b,c): # 默认参数必须在非默认参数后\n",
    "    print(a,b,c)\n",
    "   # print(b)\n",
    "    return 'finish'\n",
    "#函数调用\n",
    "print_var('the','sun')"
   ]
  },
  {
   "cell_type": "code",
   "execution_count": 10,
   "metadata": {},
   "outputs": [
    {
     "name": "stdout",
     "output_type": "stream",
     "text": [
      "way sun hello\n",
      "None\n"
     ]
    }
   ],
   "source": [
    "# 关于return return可以不加，用返回值直接对变量赋值时，默认返回值为None\n",
    "def print_var(a,b,c='hello'):\n",
    "    print(a,b,c)\n",
    "   # print(b)\n",
    "    #return 'finish'\n",
    "#print_var('the','sun','shine')\n",
    "temp=print_var('way','sun')\n",
    "print(temp)"
   ]
  },
  {
   "cell_type": "markdown",
   "metadata": {},
   "source": [
    "关于异常处理\n",
    "\n",
    "程序出错停止运行后的处理，容错处理"
   ]
  },
  {
   "cell_type": "markdown",
   "metadata": {},
   "source": [
    "异常处理语法\n",
    "\n",
    "try:\n",
    "\n",
    "    执行语句1\n",
    "except:\n",
    "\n",
    "    执行语句2\n",
    "else:\n",
    "\n",
    "    执行语句3\n",
    "\n",
    "尝试执行语句1\n",
    "\n",
    "语句1执行中产生报错则执行语句2\n",
    "\n",
    "语句1执行中无报错则执行语句3"
   ]
  },
  {
   "cell_type": "code",
   "execution_count": 14,
   "metadata": {},
   "outputs": [
    {
     "name": "stdout",
     "output_type": "stream",
     "text": [
      "0.1861760932092541\n",
      "买入btc成功！\n"
     ]
    }
   ],
   "source": [
    "# 示例 比特币下单买入\n",
    "# 下单买入过程存在一定概率买入失败（假设为80%），程序报错\n",
    "\n",
    "# 导入python自带库\n",
    "import random # 导入random库\n",
    "import time   # 时间相关库\n",
    "\n",
    "def buy_btc():\n",
    "    random_num=random.random() # 使用random库中random函数产生0-1之间随机数\n",
    "    print(random_num)\n",
    "    if random_num<=0.2:\n",
    "        print('买入btc成功！')\n",
    "        return               #买入成功则函数结束\n",
    "    else:\n",
    "        raise ValueError('程序报错，买入失败！') # 程序主动报错，停止运行\n",
    "                \n",
    "buy_btc()\n"
   ]
  },
  {
   "cell_type": "code",
   "execution_count": 16,
   "metadata": {},
   "outputs": [
    {
     "name": "stdout",
     "output_type": "stream",
     "text": [
      "0.7400859777471935\n",
      "下单失败，停止1秒后重试！\n",
      "0.42804589568579166\n",
      "下单失败，停止1秒后重试！\n",
      "0.07652745788751414\n",
      "买入btc成功！\n"
     ]
    }
   ],
   "source": [
    "# 报错时引入异常处理\n",
    "# 下单买入btc时，如买入失败则尝试买入，最多试5次\n",
    "try_num=0\n",
    "try_max=5\n",
    "while True:\n",
    "    try:  #尝试买入\n",
    "        buy_btc()\n",
    "    except:  #买入时报错\n",
    "        print('下单失败，停止1秒后重试！')\n",
    "        try_num+=1\n",
    "        time.sleep(1)  #time库，sleep为程序暂停函数，暂停1秒\n",
    "        if try_num>=try_max:\n",
    "            print('下单买入超过5次，请处理！')\n",
    "            break\n",
    "        else:\n",
    "            continue #尝试未超过5次，继续买入\n",
    "    else:  #尝试买入成功\n",
    "        break"
   ]
  },
  {
   "cell_type": "code",
   "execution_count": null,
   "metadata": {},
   "outputs": [],
   "source": []
  }
 ],
 "metadata": {
  "kernelspec": {
   "display_name": "Python 3",
   "language": "python",
   "name": "python3"
  },
  "language_info": {
   "codemirror_mode": {
    "name": "ipython",
    "version": 3
   },
   "file_extension": ".py",
   "mimetype": "text/x-python",
   "name": "python",
   "nbconvert_exporter": "python",
   "pygments_lexer": "ipython3",
   "version": "3.7.4"
  }
 },
 "nbformat": 4,
 "nbformat_minor": 2
}
