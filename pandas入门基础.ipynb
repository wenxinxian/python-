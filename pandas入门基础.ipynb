{
 "cells": [
  {
   "cell_type": "markdown",
   "metadata": {},
   "source": [
    "pandas入门基础\n",
    "\n",
    "A.数据导入"
   ]
  },
  {
   "cell_type": "markdown",
   "metadata": {},
   "source": [
    "关于数据\n",
    "\n",
    "EXCEL会编辑数据格式，不展示原始数据，CSV格式是原始存储数据(默认分隔符为',')，尽量使用文本编辑器（windows上建议使用notepad++或subline）打开数据\n",
    "\n",
    "\n"
   ]
  },
  {
   "cell_type": "code",
   "execution_count": 2,
   "metadata": {},
   "outputs": [],
   "source": [
    "import pandas as pd  #导入第三方库，取别名为pd"
   ]
  },
  {
   "cell_type": "markdown",
   "metadata": {},
   "source": [
    "导入数据使用read系列函数"
   ]
  },
  {
   "cell_type": "markdown",
   "metadata": {},
   "source": [
    "pd.read_csv(filename) # 导入csv文件数据\n",
    "\n",
    "pd.read_excel(filename) # 导入excel文件数据\n",
    "\n",
    "pd.read_table(filename) # 导入含分隔符（如txt文件）数据"
   ]
  },
  {
   "cell_type": "markdown",
   "metadata": {},
   "source": []
  },
  {
   "cell_type": "code",
   "execution_count": 3,
   "metadata": {},
   "outputs": [
    {
     "name": "stdout",
     "output_type": "stream",
     "text": [
      "                        open     high      low    close     volume       北京时间\n",
      "candle_begin_time                                                            \n",
      "2018-01-24 00:00:00  10812.0  10895.0  10812.0  10886.0  77.541559  08点00分00秒\n",
      "2018-01-24 00:01:00  10886.0  10906.0  10871.0  10871.0  60.049512  08点01分00秒\n",
      "2018-01-24 00:02:00  10872.0  10872.0  10840.0  10840.0  30.690749  08点02分00秒\n",
      "2018-01-24 00:03:00  10840.0  10849.0  10815.0  10833.0  20.134866  08点03分00秒\n",
      "2018-01-24 00:04:00  10834.0  10853.0  10833.0  10847.0  25.555915  08点04分00秒\n"
     ]
    }
   ],
   "source": [
    "df=pd.read_csv(\n",
    "    # file在电脑中路径\n",
    "    filepath_or_buffer='D:/Users/wen18/Desktop/graduate study/python/coin_quant/coin_quant_class/data/class5/BITFINEX_BTCUSD_20180124_1T.csv',\n",
    "    sep=',', # 数据分割符，csv默认为“，”，此处可不加，其他格式多为'\\t'\n",
    "    skiprows=1,  # 跳过文件第1行不读入\n",
    "    nrows=5,   # 只读取前n行\n",
    "#     parse_dates=['candle_begin_time'],  # 将指定的某几列数据识别为日期格式，不指定则默认以字符串方式读入\n",
    "    index_col=['candle_begin_time'],  # 将指定列设为index,否则默认为0开始的序列\n",
    "    # usecols=['candle_begin_time','open'],  # 指定读取某几列数据\n",
    "    # error_bad_lines=False, # 当某行数据读入有问题时，跳过该行，数据脏乱时使用\n",
    "    # na_values='NULL', # 将数据中的null识别为空值，否则将识别为字符串‘null’\n",
    ")\n",
    "print(df)"
   ]
  },
  {
   "cell_type": "markdown",
   "metadata": {},
   "source": [
    "1、参数filepath_or_buffer中路径问题：\n",
    "\n",
    "   路径信息需为字符串类型\n",
    "    \n",
    "   通过直接复制地址得到结果为：D:\\Users\\wen18\\Desktop\\graduate study\\python\\coin_quant\\coin_quant_class\\data\\class5\\BITFINEX_BTCUSD_20180124_1T.csv 会产生报错\n",
    "    \n",
    "   解决方法—将‘\\’改为‘/’\n",
    "   \n",
    "2、导出数据的数据类型为dataframe\n",
    "\n",
    "   每列的名称（‘open’,'high',,,）称为column，每行的名称（默认0，，1439or设置为指定列candle_begin_time）为index，统称为表的lable\n",
    "   \n",
    "   除lable外的元素可以按二元矩阵位置编号（从0开始编号）访问\n",
    "   "
   ]
  },
  {
   "cell_type": "markdown",
   "metadata": {},
   "source": [
    "B.数据查看、选取"
   ]
  },
  {
   "cell_type": "code",
   "execution_count": 13,
   "metadata": {},
   "outputs": [
    {
     "name": "stdout",
     "output_type": "stream",
     "text": [
      "               open          high           low         close     volume\n",
      "count      5.000000      5.000000      5.000000      5.000000   5.000000\n",
      "mean   10848.800000  10875.000000  10834.200000  10855.400000  42.794520\n",
      "std       29.886452     25.149553     23.721298     22.300224  24.810392\n",
      "min    10812.000000  10849.000000  10812.000000  10833.000000  20.134866\n",
      "25%    10834.000000  10853.000000  10815.000000  10840.000000  25.555915\n",
      "50%    10840.000000  10872.000000  10833.000000  10847.000000  30.690749\n",
      "75%    10872.000000  10895.000000  10840.000000  10871.000000  60.049512\n",
      "max    10886.000000  10906.000000  10871.000000  10886.000000  77.541559\n"
     ]
    }
   ],
   "source": [
    "# 查看数据\n",
    "# print(df.shape) # 获取数据行列数目(不包括lable),结果为元组，可以单取行或列\n",
    "# print(df.shape[0]) # 取行的数据\n",
    "# print(df.columns)  # 取每一列的名称,可遍历\n",
    "# for i in df.columns:\n",
    "#     print(i)\n",
    "# print(df.index)   # 取每一行的名称\n",
    "# print(df.dtypes)  # 每列数据的类型 ，object为字符串类型\n",
    "# print(df.head(3)) # 取前3行，默认为5\n",
    "# print(df.tail(3)) # 取后3行\n",
    "# print(df.sample(n=3)) #随机取3行\n",
    "# print(df.sample(frac=0.2)) #按0.2的概率随机取行\n",
    "print(df.describe()) #统计每列数据的个数、平均数、标准差、分位数、最值（只对数字类型有用）\n"
   ]
  },
  {
   "cell_type": "code",
   "execution_count": 14,
   "metadata": {},
   "outputs": [
    {
     "name": "stdout",
     "output_type": "stream",
     "text": [
      "                        open     high      low    close  volume       北京时间               北京时间1       交易所\n",
      "candle_begin_time                                                                                       \n",
      "2018-01-24 00:00:00  10812.0  10895.0  10812.0  10886.0  77.542  08点00分00秒  2019-1-2408点00分00秒  bitfinex\n",
      "2018-01-24 00:01:00  10886.0  10906.0  10871.0  10871.0  60.050  08点01分00秒  2019-1-2408点01分00秒  bitfinex\n",
      "2018-01-24 00:02:00  10872.0  10872.0  10840.0  10840.0  30.691  08点02分00秒  2019-1-2408点02分00秒  bitfinex\n",
      "2018-01-24 00:03:00  10840.0  10849.0  10815.0  10833.0  20.135  08点03分00秒  2019-1-2408点03分00秒  bitfinex\n",
      "2018-01-24 00:04:00  10834.0  10853.0  10833.0  10847.0  25.556  08点04分00秒  2019-1-2408点04分00秒  bitfinex\n"
     ]
    }
   ],
   "source": [
    "# 对print数据进行修正\n",
    "pd.set_option('expand_frame_repr',False) # 列多时不换行\n",
    "pd.set_option('display.max_rows',10) #设置最大显示行数，butjupyter有显示限制\n",
    "pd.set_option('precision',3) # 浮点数的精度\n",
    "print(df)"
   ]
  },
  {
   "cell_type": "code",
   "execution_count": 30,
   "metadata": {},
   "outputs": [
    {
     "name": "stdout",
     "output_type": "stream",
     "text": [
      "candle_begin_time\n",
      "2018-01-24 00:00:00    10812.0\n",
      "2018-01-24 00:01:00    10871.0\n",
      "2018-01-24 00:02:00    10840.0\n",
      "2018-01-24 00:03:00    10815.0\n",
      "2018-01-24 00:04:00    10833.0\n",
      "Name: low, dtype: float64\n",
      "                        high      low\n",
      "candle_begin_time                    \n",
      "2018-01-24 00:00:00  10895.0  10812.0\n",
      "2018-01-24 00:01:00  10906.0  10871.0\n",
      "2018-01-24 00:02:00  10872.0  10840.0\n",
      "2018-01-24 00:03:00  10849.0  10815.0\n",
      "2018-01-24 00:04:00  10853.0  10833.0\n"
     ]
    }
   ],
   "source": [
    "# 选取特定的行、列\n",
    "print(df['low']) # 选取列，列名为字符串,serise数据类型\n",
    "print(df[['high','low']]) # 选取多行 ,需取两个括号"
   ]
  },
  {
   "cell_type": "code",
   "execution_count": 38,
   "metadata": {},
   "outputs": [
    {
     "ename": "KeyError",
     "evalue": "'2018-01-24 00:01:00'",
     "output_type": "error",
     "traceback": [
      "\u001b[1;31m---------------------------------------------------------------------------\u001b[0m",
      "\u001b[1;31mKeyError\u001b[0m                                  Traceback (most recent call last)",
      "\u001b[1;32mD:\\Users\\wen18\\Anaconda3\\lib\\site-packages\\pandas\\core\\indexes\\base.py\u001b[0m in \u001b[0;36mget_loc\u001b[1;34m(self, key, method, tolerance)\u001b[0m\n\u001b[0;32m   2896\u001b[0m             \u001b[1;32mtry\u001b[0m\u001b[1;33m:\u001b[0m\u001b[1;33m\u001b[0m\u001b[1;33m\u001b[0m\u001b[0m\n\u001b[1;32m-> 2897\u001b[1;33m                 \u001b[1;32mreturn\u001b[0m \u001b[0mself\u001b[0m\u001b[1;33m.\u001b[0m\u001b[0m_engine\u001b[0m\u001b[1;33m.\u001b[0m\u001b[0mget_loc\u001b[0m\u001b[1;33m(\u001b[0m\u001b[0mkey\u001b[0m\u001b[1;33m)\u001b[0m\u001b[1;33m\u001b[0m\u001b[1;33m\u001b[0m\u001b[0m\n\u001b[0m\u001b[0;32m   2898\u001b[0m             \u001b[1;32mexcept\u001b[0m \u001b[0mKeyError\u001b[0m\u001b[1;33m:\u001b[0m\u001b[1;33m\u001b[0m\u001b[1;33m\u001b[0m\u001b[0m\n",
      "\u001b[1;32mpandas\\_libs\\index.pyx\u001b[0m in \u001b[0;36mpandas._libs.index.IndexEngine.get_loc\u001b[1;34m()\u001b[0m\n",
      "\u001b[1;32mpandas\\_libs\\index.pyx\u001b[0m in \u001b[0;36mpandas._libs.index.IndexEngine.get_loc\u001b[1;34m()\u001b[0m\n",
      "\u001b[1;32mpandas\\_libs\\index_class_helper.pxi\u001b[0m in \u001b[0;36mpandas._libs.index.Int64Engine._check_type\u001b[1;34m()\u001b[0m\n",
      "\u001b[1;31mKeyError\u001b[0m: '2018-01-24 00:01:00'",
      "\nDuring handling of the above exception, another exception occurred:\n",
      "\u001b[1;31mKeyError\u001b[0m                                  Traceback (most recent call last)",
      "\u001b[1;32m<ipython-input-38-dd0bccddc3bf>\u001b[0m in \u001b[0;36m<module>\u001b[1;34m\u001b[0m\n\u001b[1;32m----> 1\u001b[1;33m \u001b[0mprint\u001b[0m\u001b[1;33m(\u001b[0m\u001b[0mdf\u001b[0m\u001b[1;33m.\u001b[0m\u001b[0mloc\u001b[0m\u001b[1;33m[\u001b[0m\u001b[1;34m'2018-01-24 00:01:00'\u001b[0m\u001b[1;33m]\u001b[0m\u001b[1;33m)\u001b[0m \u001b[1;31m# candle_begin_time此列为index不能使用doc\u001b[0m\u001b[1;33m\u001b[0m\u001b[1;33m\u001b[0m\u001b[0m\n\u001b[0m",
      "\u001b[1;32mD:\\Users\\wen18\\Anaconda3\\lib\\site-packages\\pandas\\core\\indexing.py\u001b[0m in \u001b[0;36m__getitem__\u001b[1;34m(self, key)\u001b[0m\n\u001b[0;32m   1422\u001b[0m \u001b[1;33m\u001b[0m\u001b[0m\n\u001b[0;32m   1423\u001b[0m             \u001b[0mmaybe_callable\u001b[0m \u001b[1;33m=\u001b[0m \u001b[0mcom\u001b[0m\u001b[1;33m.\u001b[0m\u001b[0mapply_if_callable\u001b[0m\u001b[1;33m(\u001b[0m\u001b[0mkey\u001b[0m\u001b[1;33m,\u001b[0m \u001b[0mself\u001b[0m\u001b[1;33m.\u001b[0m\u001b[0mobj\u001b[0m\u001b[1;33m)\u001b[0m\u001b[1;33m\u001b[0m\u001b[1;33m\u001b[0m\u001b[0m\n\u001b[1;32m-> 1424\u001b[1;33m             \u001b[1;32mreturn\u001b[0m \u001b[0mself\u001b[0m\u001b[1;33m.\u001b[0m\u001b[0m_getitem_axis\u001b[0m\u001b[1;33m(\u001b[0m\u001b[0mmaybe_callable\u001b[0m\u001b[1;33m,\u001b[0m \u001b[0maxis\u001b[0m\u001b[1;33m=\u001b[0m\u001b[0maxis\u001b[0m\u001b[1;33m)\u001b[0m\u001b[1;33m\u001b[0m\u001b[1;33m\u001b[0m\u001b[0m\n\u001b[0m\u001b[0;32m   1425\u001b[0m \u001b[1;33m\u001b[0m\u001b[0m\n\u001b[0;32m   1426\u001b[0m     \u001b[1;32mdef\u001b[0m \u001b[0m_is_scalar_access\u001b[0m\u001b[1;33m(\u001b[0m\u001b[0mself\u001b[0m\u001b[1;33m,\u001b[0m \u001b[0mkey\u001b[0m\u001b[1;33m:\u001b[0m \u001b[0mTuple\u001b[0m\u001b[1;33m)\u001b[0m\u001b[1;33m:\u001b[0m\u001b[1;33m\u001b[0m\u001b[1;33m\u001b[0m\u001b[0m\n",
      "\u001b[1;32mD:\\Users\\wen18\\Anaconda3\\lib\\site-packages\\pandas\\core\\indexing.py\u001b[0m in \u001b[0;36m_getitem_axis\u001b[1;34m(self, key, axis)\u001b[0m\n\u001b[0;32m   1848\u001b[0m         \u001b[1;31m# fall thru to straight lookup\u001b[0m\u001b[1;33m\u001b[0m\u001b[1;33m\u001b[0m\u001b[1;33m\u001b[0m\u001b[0m\n\u001b[0;32m   1849\u001b[0m         \u001b[0mself\u001b[0m\u001b[1;33m.\u001b[0m\u001b[0m_validate_key\u001b[0m\u001b[1;33m(\u001b[0m\u001b[0mkey\u001b[0m\u001b[1;33m,\u001b[0m \u001b[0maxis\u001b[0m\u001b[1;33m)\u001b[0m\u001b[1;33m\u001b[0m\u001b[1;33m\u001b[0m\u001b[0m\n\u001b[1;32m-> 1850\u001b[1;33m         \u001b[1;32mreturn\u001b[0m \u001b[0mself\u001b[0m\u001b[1;33m.\u001b[0m\u001b[0m_get_label\u001b[0m\u001b[1;33m(\u001b[0m\u001b[0mkey\u001b[0m\u001b[1;33m,\u001b[0m \u001b[0maxis\u001b[0m\u001b[1;33m=\u001b[0m\u001b[0maxis\u001b[0m\u001b[1;33m)\u001b[0m\u001b[1;33m\u001b[0m\u001b[1;33m\u001b[0m\u001b[0m\n\u001b[0m\u001b[0;32m   1851\u001b[0m \u001b[1;33m\u001b[0m\u001b[0m\n\u001b[0;32m   1852\u001b[0m \u001b[1;33m\u001b[0m\u001b[0m\n",
      "\u001b[1;32mD:\\Users\\wen18\\Anaconda3\\lib\\site-packages\\pandas\\core\\indexing.py\u001b[0m in \u001b[0;36m_get_label\u001b[1;34m(self, label, axis)\u001b[0m\n\u001b[0;32m    158\u001b[0m             \u001b[1;32mraise\u001b[0m \u001b[0mIndexingError\u001b[0m\u001b[1;33m(\u001b[0m\u001b[1;34m\"no slices here, handle elsewhere\"\u001b[0m\u001b[1;33m)\u001b[0m\u001b[1;33m\u001b[0m\u001b[1;33m\u001b[0m\u001b[0m\n\u001b[0;32m    159\u001b[0m \u001b[1;33m\u001b[0m\u001b[0m\n\u001b[1;32m--> 160\u001b[1;33m         \u001b[1;32mreturn\u001b[0m \u001b[0mself\u001b[0m\u001b[1;33m.\u001b[0m\u001b[0mobj\u001b[0m\u001b[1;33m.\u001b[0m\u001b[0m_xs\u001b[0m\u001b[1;33m(\u001b[0m\u001b[0mlabel\u001b[0m\u001b[1;33m,\u001b[0m \u001b[0maxis\u001b[0m\u001b[1;33m=\u001b[0m\u001b[0maxis\u001b[0m\u001b[1;33m)\u001b[0m\u001b[1;33m\u001b[0m\u001b[1;33m\u001b[0m\u001b[0m\n\u001b[0m\u001b[0;32m    161\u001b[0m \u001b[1;33m\u001b[0m\u001b[0m\n\u001b[0;32m    162\u001b[0m     \u001b[1;32mdef\u001b[0m \u001b[0m_get_loc\u001b[0m\u001b[1;33m(\u001b[0m\u001b[0mself\u001b[0m\u001b[1;33m,\u001b[0m \u001b[0mkey\u001b[0m\u001b[1;33m:\u001b[0m \u001b[0mint\u001b[0m\u001b[1;33m,\u001b[0m \u001b[0maxis\u001b[0m\u001b[1;33m:\u001b[0m \u001b[0mint\u001b[0m\u001b[1;33m)\u001b[0m\u001b[1;33m:\u001b[0m\u001b[1;33m\u001b[0m\u001b[1;33m\u001b[0m\u001b[0m\n",
      "\u001b[1;32mD:\\Users\\wen18\\Anaconda3\\lib\\site-packages\\pandas\\core\\generic.py\u001b[0m in \u001b[0;36mxs\u001b[1;34m(self, key, axis, level, drop_level)\u001b[0m\n\u001b[0;32m   3735\u001b[0m             \u001b[0mloc\u001b[0m\u001b[1;33m,\u001b[0m \u001b[0mnew_index\u001b[0m \u001b[1;33m=\u001b[0m \u001b[0mself\u001b[0m\u001b[1;33m.\u001b[0m\u001b[0mindex\u001b[0m\u001b[1;33m.\u001b[0m\u001b[0mget_loc_level\u001b[0m\u001b[1;33m(\u001b[0m\u001b[0mkey\u001b[0m\u001b[1;33m,\u001b[0m \u001b[0mdrop_level\u001b[0m\u001b[1;33m=\u001b[0m\u001b[0mdrop_level\u001b[0m\u001b[1;33m)\u001b[0m\u001b[1;33m\u001b[0m\u001b[1;33m\u001b[0m\u001b[0m\n\u001b[0;32m   3736\u001b[0m         \u001b[1;32melse\u001b[0m\u001b[1;33m:\u001b[0m\u001b[1;33m\u001b[0m\u001b[1;33m\u001b[0m\u001b[0m\n\u001b[1;32m-> 3737\u001b[1;33m             \u001b[0mloc\u001b[0m \u001b[1;33m=\u001b[0m \u001b[0mself\u001b[0m\u001b[1;33m.\u001b[0m\u001b[0mindex\u001b[0m\u001b[1;33m.\u001b[0m\u001b[0mget_loc\u001b[0m\u001b[1;33m(\u001b[0m\u001b[0mkey\u001b[0m\u001b[1;33m)\u001b[0m\u001b[1;33m\u001b[0m\u001b[1;33m\u001b[0m\u001b[0m\n\u001b[0m\u001b[0;32m   3738\u001b[0m \u001b[1;33m\u001b[0m\u001b[0m\n\u001b[0;32m   3739\u001b[0m             \u001b[1;32mif\u001b[0m \u001b[0misinstance\u001b[0m\u001b[1;33m(\u001b[0m\u001b[0mloc\u001b[0m\u001b[1;33m,\u001b[0m \u001b[0mnp\u001b[0m\u001b[1;33m.\u001b[0m\u001b[0mndarray\u001b[0m\u001b[1;33m)\u001b[0m\u001b[1;33m:\u001b[0m\u001b[1;33m\u001b[0m\u001b[1;33m\u001b[0m\u001b[0m\n",
      "\u001b[1;32mD:\\Users\\wen18\\Anaconda3\\lib\\site-packages\\pandas\\core\\indexes\\range.py\u001b[0m in \u001b[0;36mget_loc\u001b[1;34m(self, key, method, tolerance)\u001b[0m\n\u001b[0;32m    377\u001b[0m             \u001b[1;32mexcept\u001b[0m \u001b[0mValueError\u001b[0m\u001b[1;33m:\u001b[0m\u001b[1;33m\u001b[0m\u001b[1;33m\u001b[0m\u001b[0m\n\u001b[0;32m    378\u001b[0m                 \u001b[1;32mraise\u001b[0m \u001b[0mKeyError\u001b[0m\u001b[1;33m(\u001b[0m\u001b[0mkey\u001b[0m\u001b[1;33m)\u001b[0m\u001b[1;33m\u001b[0m\u001b[1;33m\u001b[0m\u001b[0m\n\u001b[1;32m--> 379\u001b[1;33m         \u001b[1;32mreturn\u001b[0m \u001b[0msuper\u001b[0m\u001b[1;33m(\u001b[0m\u001b[1;33m)\u001b[0m\u001b[1;33m.\u001b[0m\u001b[0mget_loc\u001b[0m\u001b[1;33m(\u001b[0m\u001b[0mkey\u001b[0m\u001b[1;33m,\u001b[0m \u001b[0mmethod\u001b[0m\u001b[1;33m=\u001b[0m\u001b[0mmethod\u001b[0m\u001b[1;33m,\u001b[0m \u001b[0mtolerance\u001b[0m\u001b[1;33m=\u001b[0m\u001b[0mtolerance\u001b[0m\u001b[1;33m)\u001b[0m\u001b[1;33m\u001b[0m\u001b[1;33m\u001b[0m\u001b[0m\n\u001b[0m\u001b[0;32m    380\u001b[0m \u001b[1;33m\u001b[0m\u001b[0m\n\u001b[0;32m    381\u001b[0m     \u001b[1;33m@\u001b[0m\u001b[0mAppender\u001b[0m\u001b[1;33m(\u001b[0m\u001b[0m_index_shared_docs\u001b[0m\u001b[1;33m[\u001b[0m\u001b[1;34m\"get_indexer\"\u001b[0m\u001b[1;33m]\u001b[0m\u001b[1;33m)\u001b[0m\u001b[1;33m\u001b[0m\u001b[1;33m\u001b[0m\u001b[0m\n",
      "\u001b[1;32mD:\\Users\\wen18\\Anaconda3\\lib\\site-packages\\pandas\\core\\indexes\\base.py\u001b[0m in \u001b[0;36mget_loc\u001b[1;34m(self, key, method, tolerance)\u001b[0m\n\u001b[0;32m   2897\u001b[0m                 \u001b[1;32mreturn\u001b[0m \u001b[0mself\u001b[0m\u001b[1;33m.\u001b[0m\u001b[0m_engine\u001b[0m\u001b[1;33m.\u001b[0m\u001b[0mget_loc\u001b[0m\u001b[1;33m(\u001b[0m\u001b[0mkey\u001b[0m\u001b[1;33m)\u001b[0m\u001b[1;33m\u001b[0m\u001b[1;33m\u001b[0m\u001b[0m\n\u001b[0;32m   2898\u001b[0m             \u001b[1;32mexcept\u001b[0m \u001b[0mKeyError\u001b[0m\u001b[1;33m:\u001b[0m\u001b[1;33m\u001b[0m\u001b[1;33m\u001b[0m\u001b[0m\n\u001b[1;32m-> 2899\u001b[1;33m                 \u001b[1;32mreturn\u001b[0m \u001b[0mself\u001b[0m\u001b[1;33m.\u001b[0m\u001b[0m_engine\u001b[0m\u001b[1;33m.\u001b[0m\u001b[0mget_loc\u001b[0m\u001b[1;33m(\u001b[0m\u001b[0mself\u001b[0m\u001b[1;33m.\u001b[0m\u001b[0m_maybe_cast_indexer\u001b[0m\u001b[1;33m(\u001b[0m\u001b[0mkey\u001b[0m\u001b[1;33m)\u001b[0m\u001b[1;33m)\u001b[0m\u001b[1;33m\u001b[0m\u001b[1;33m\u001b[0m\u001b[0m\n\u001b[0m\u001b[0;32m   2900\u001b[0m         \u001b[0mindexer\u001b[0m \u001b[1;33m=\u001b[0m \u001b[0mself\u001b[0m\u001b[1;33m.\u001b[0m\u001b[0mget_indexer\u001b[0m\u001b[1;33m(\u001b[0m\u001b[1;33m[\u001b[0m\u001b[0mkey\u001b[0m\u001b[1;33m]\u001b[0m\u001b[1;33m,\u001b[0m \u001b[0mmethod\u001b[0m\u001b[1;33m=\u001b[0m\u001b[0mmethod\u001b[0m\u001b[1;33m,\u001b[0m \u001b[0mtolerance\u001b[0m\u001b[1;33m=\u001b[0m\u001b[0mtolerance\u001b[0m\u001b[1;33m)\u001b[0m\u001b[1;33m\u001b[0m\u001b[1;33m\u001b[0m\u001b[0m\n\u001b[0;32m   2901\u001b[0m         \u001b[1;32mif\u001b[0m \u001b[0mindexer\u001b[0m\u001b[1;33m.\u001b[0m\u001b[0mndim\u001b[0m \u001b[1;33m>\u001b[0m \u001b[1;36m1\u001b[0m \u001b[1;32mor\u001b[0m \u001b[0mindexer\u001b[0m\u001b[1;33m.\u001b[0m\u001b[0msize\u001b[0m \u001b[1;33m>\u001b[0m \u001b[1;36m1\u001b[0m\u001b[1;33m:\u001b[0m\u001b[1;33m\u001b[0m\u001b[1;33m\u001b[0m\u001b[0m\n",
      "\u001b[1;32mpandas\\_libs\\index.pyx\u001b[0m in \u001b[0;36mpandas._libs.index.IndexEngine.get_loc\u001b[1;34m()\u001b[0m\n",
      "\u001b[1;32mpandas\\_libs\\index.pyx\u001b[0m in \u001b[0;36mpandas._libs.index.IndexEngine.get_loc\u001b[1;34m()\u001b[0m\n",
      "\u001b[1;32mpandas\\_libs\\index_class_helper.pxi\u001b[0m in \u001b[0;36mpandas._libs.index.Int64Engine._check_type\u001b[1;34m()\u001b[0m\n",
      "\u001b[1;31mKeyError\u001b[0m: '2018-01-24 00:01:00'"
     ]
    }
   ],
   "source": [
    "print(df.loc['2018-01-24 00:01:00']) # candle_begin_time数据类型为日期不是字符串"
   ]
  },
  {
   "cell_type": "code",
   "execution_count": 43,
   "metadata": {},
   "outputs": [
    {
     "name": "stdout",
     "output_type": "stream",
     "text": [
      "open       1.09e+04\n",
      "high       1.09e+04\n",
      "low        1.09e+04\n",
      "close      1.09e+04\n",
      "volume           60\n",
      "北京时间      08点01分00秒\n",
      "Name: 2018-01-24 00:01:00, dtype: object\n",
      "                        open     high      low    close  volume       北京时间\n",
      "candle_begin_time                                                         \n",
      "2018-01-24 00:01:00  10886.0  10906.0  10871.0  10871.0  60.050  08点01分00秒\n",
      "2018-01-24 00:03:00  10840.0  10849.0  10815.0  10833.0  20.135  08点03分00秒\n"
     ]
    }
   ],
   "source": [
    "# loc 通过lable读取数据\n",
    "# print(df.dtypes)\n",
    "print(df.loc['2018-01-24 00:01:00']) #选取指定行\n",
    "print(df.loc[['2018-01-24 00:01:00','2018-01-24 00:03:00']]) #选取指定多行"
   ]
  },
  {
   "cell_type": "code",
   "execution_count": 48,
   "metadata": {},
   "outputs": [
    {
     "name": "stdout",
     "output_type": "stream",
     "text": [
      "                        open     high      low    close  volume       北京时间\n",
      "candle_begin_time                                                         \n",
      "2018-01-24 00:00:00  10812.0  10895.0  10812.0  10886.0  77.542  08点00分00秒\n",
      "2018-01-24 00:01:00  10886.0  10906.0  10871.0  10871.0  60.050  08点01分00秒\n",
      "2018-01-24 00:02:00  10872.0  10872.0  10840.0  10840.0  30.691  08点02分00秒\n",
      "2018-01-24 00:03:00  10840.0  10849.0  10815.0  10833.0  20.135  08点03分00秒\n",
      "2018-01-24 00:04:00  10834.0  10853.0  10833.0  10847.0  25.556  08点04分00秒\n",
      "                        open     high      low    close  volume       北京时间\n",
      "candle_begin_time                                                         \n",
      "2018-01-24 00:00:00  10812.0  10895.0  10812.0  10886.0  77.542  08点00分00秒\n",
      "2018-01-24 00:01:00  10886.0  10906.0  10871.0  10871.0  60.050  08点01分00秒\n",
      "2018-01-24 00:02:00  10872.0  10872.0  10840.0  10840.0  30.691  08点02分00秒\n",
      "                         low    close  volume\n",
      "candle_begin_time                            \n",
      "2018-01-24 00:00:00  10812.0  10886.0  77.542\n",
      "2018-01-24 00:01:00  10871.0  10871.0  60.050\n",
      "2018-01-24 00:02:00  10840.0  10840.0  30.691\n",
      "2018-01-24 00:03:00  10815.0  10833.0  20.135\n",
      "2018-01-24 00:04:00  10833.0  10847.0  25.556\n",
      "                         low    close  volume\n",
      "candle_begin_time                            \n",
      "2018-01-24 00:01:00  10871.0  10871.0  60.050\n",
      "2018-01-24 00:02:00  10840.0  10840.0  30.691\n",
      "2018-01-24 00:03:00  10815.0  10833.0  20.135\n",
      "10833.0\n"
     ]
    }
   ],
   "source": [
    "# 取范围内多列，多行，类似list中切片\n",
    "print(df.loc[:]) # 取所有数据\n",
    "print(df.loc['2018-01-24 00:00:00':'2018-01-24 00:02:00']) # 取部分行\n",
    "print(df.loc[:,'low':'volume']) #取所有行，部分列\n",
    "print(df.loc['2018-01-24 00:01:00':'2018-01-24 00:03:00','low':'volume']) #取所有行，部分列\n",
    "# 读取某个元素\n",
    "print(df.at['2018-01-24 00:03:00','close'])"
   ]
  },
  {
   "cell_type": "code",
   "execution_count": 51,
   "metadata": {},
   "outputs": [
    {
     "name": "stdout",
     "output_type": "stream",
     "text": [
      "open       1.08e+04\n",
      "high       1.09e+04\n",
      "low        1.08e+04\n",
      "close      1.09e+04\n",
      "volume         77.5\n",
      "北京时间      08点00分00秒\n",
      "Name: 2018-01-24 00:00:00, dtype: object\n",
      "                        high      low\n",
      "candle_begin_time                    \n",
      "2018-01-24 00:01:00  10906.0  10871.0\n",
      "2018-01-24 00:02:00  10872.0  10840.0\n",
      "20.13486619\n"
     ]
    }
   ],
   "source": [
    "# iloc 通过position读取数据\n",
    "print(df.iloc[0]) # 取第一行\n",
    "print(df.iloc[1:3,1:3]) # 取部分行和部分列\n",
    "# 取某个元素\n",
    "print(df.iat[3,4])"
   ]
  },
  {
   "cell_type": "markdown",
   "metadata": {},
   "source": [
    "C.列操作"
   ]
  },
  {
   "cell_type": "code",
   "execution_count": 16,
   "metadata": {},
   "outputs": [
    {
     "name": "stdout",
     "output_type": "stream",
     "text": [
      "candle_begin_time\n",
      "2018-01-24 00:00:00    10889.542\n",
      "2018-01-24 00:01:00    10946.050\n",
      "2018-01-24 00:02:00    10902.691\n",
      "2018-01-24 00:03:00    10860.135\n",
      "2018-01-24 00:04:00    10859.556\n",
      "dtype: float64\n",
      "candle_begin_time\n",
      "2018-01-24 00:00:00    32436.0\n",
      "2018-01-24 00:01:00    32658.0\n",
      "2018-01-24 00:02:00    32616.0\n",
      "2018-01-24 00:03:00    32520.0\n",
      "2018-01-24 00:04:00    32502.0\n",
      "Name: open, dtype: float64\n",
      "candle_begin_time\n",
      "2018-01-24 00:00:00    25.847\n",
      "2018-01-24 00:01:00    20.017\n",
      "2018-01-24 00:02:00    10.230\n",
      "2018-01-24 00:03:00     6.712\n",
      "2018-01-24 00:04:00     8.519\n",
      "Name: volume, dtype: float64\n",
      "candle_begin_time\n",
      "2018-01-24 00:00:00    838379.333\n",
      "2018-01-24 00:01:00    653698.982\n",
      "2018-01-24 00:02:00    333669.824\n",
      "2018-01-24 00:03:00    218261.949\n",
      "2018-01-24 00:04:00    276872.778\n",
      "dtype: float64\n",
      "                        open     high      low    close  volume       北京时间               北京时间1       交易所\n",
      "candle_begin_time                                                                                       \n",
      "2018-01-24 00:00:00  10812.0  10895.0  10812.0  10886.0  77.542  08点00分00秒  2019-1-2408点00分00秒  bitfinex\n",
      "2018-01-24 00:01:00  10886.0  10906.0  10871.0  10871.0  60.050  08点01分00秒  2019-1-2408点01分00秒  bitfinex\n",
      "2018-01-24 00:02:00  10872.0  10872.0  10840.0  10840.0  30.691  08点02分00秒  2019-1-2408点02分00秒  bitfinex\n",
      "2018-01-24 00:03:00  10840.0  10849.0  10815.0  10833.0  20.135  08点03分00秒  2019-1-2408点03分00秒  bitfinex\n",
      "2018-01-24 00:04:00  10834.0  10853.0  10833.0  10847.0  25.556  08点04分00秒  2019-1-2408点04分00秒  bitfinex\n"
     ]
    }
   ],
   "source": [
    "# 行列加减乘除\n",
    "print(df['open']+df['volume'])\n",
    "print(df['open']*3)\n",
    "print(df['volume']/3)\n",
    "# print(df[:])\n",
    "print(df['open']*df['volume'])\n",
    "# 新增一列\n",
    "# df['北京时间1']='2019-1-24'+df['北京时间']\n",
    "df['交易所']='bitfinex'\n",
    "print(df)"
   ]
  },
  {
   "cell_type": "code",
   "execution_count": 25,
   "metadata": {},
   "outputs": [
    {
     "name": "stdout",
     "output_type": "stream",
     "text": [
      "10886.0\n",
      "10849.0\n",
      "24.81039162319406\n",
      "5\n",
      "30.69074912\n",
      "60.04951152\n"
     ]
    }
   ],
   "source": [
    "# 统计函数\n",
    "# print(df[['low','close']].mean())  # 分别对不同列求均值 \n",
    "# print(df[['low','close']].mean(axis=1))  # 对单行求均值 \n",
    "print(df['close'].max())\n",
    "print(df['high'].min())\n",
    "print(df['volume'].std()) # 标准差\n",
    "print(df['volume'].count()) # 非空数据数量\n",
    "print(df['volume'].median()) # 中位数\n",
    "print(df['volume'].quantile(0.75)) #25%分位数"
   ]
  },
  {
   "cell_type": "code",
   "execution_count": 41,
   "metadata": {
    "scrolled": true
   },
   "outputs": [
    {
     "name": "stdout",
     "output_type": "stream",
     "text": [
      "                       close  下周期close\n",
      "candle_begin_time                     \n",
      "2018-01-24 00:00:00  10886.0   10871.0\n",
      "2018-01-24 00:01:00  10871.0   10840.0\n",
      "2018-01-24 00:02:00  10840.0   10833.0\n",
      "2018-01-24 00:03:00  10833.0   10847.0\n",
      "2018-01-24 00:04:00  10847.0       NaN\n"
     ]
    }
   ],
   "source": [
    "# shift类函数、删除列\n",
    "# del df['下周期low']  # 删除单列数据\n",
    "df['下周期close']=df['close'].shift(-1) # 依次获取下一行数据，参数1为获取上一行数据\n",
    "# print(df['close','下周期close']) 需使用双括号\n",
    "print(df[['close','下周期close']]) "
   ]
  },
  {
   "cell_type": "code",
   "execution_count": 42,
   "metadata": {
    "scrolled": true
   },
   "outputs": [
    {
     "name": "stdout",
     "output_type": "stream",
     "text": [
      "                        open     high      low    close  volume       北京时间  下周期close    涨跌\n",
      "candle_begin_time                                                                         \n",
      "2018-01-24 00:00:00  10812.0  10895.0  10812.0  10886.0  77.542  08点00分00秒   10871.0   NaN\n",
      "2018-01-24 00:01:00  10886.0  10906.0  10871.0  10871.0  60.050  08点01分00秒   10840.0 -15.0\n",
      "2018-01-24 00:02:00  10872.0  10872.0  10840.0  10840.0  30.691  08点02分00秒   10833.0 -31.0\n",
      "2018-01-24 00:03:00  10840.0  10849.0  10815.0  10833.0  20.135  08点03分00秒   10847.0  -7.0\n",
      "2018-01-24 00:04:00  10834.0  10853.0  10833.0  10847.0  25.556  08点04分00秒       NaN  14.0\n"
     ]
    }
   ],
   "source": [
    "df['涨跌']=df['close'].diff(1) # 本行与上一列相减\n",
    "df.drop(['交易所'],axis=1,inplace=True) # 删除列的方式，inplace=False市删除后df不替代原df，可以赋值\n",
    "print(df)\n"
   ]
  },
  {
   "cell_type": "code",
   "execution_count": 43,
   "metadata": {},
   "outputs": [
    {
     "name": "stdout",
     "output_type": "stream",
     "text": [
      "                        open     high      low    close  volume       北京时间  下周期close    涨跌    涨跌幅\n",
      "candle_begin_time                                                                                \n",
      "2018-01-24 00:00:00  10812.0  10895.0  10812.0  10886.0  77.542  08点00分00秒   10871.0   NaN    NaN\n",
      "2018-01-24 00:01:00  10886.0  10906.0  10871.0  10871.0  60.050  08点01分00秒   10840.0 -15.0    NaN\n",
      "2018-01-24 00:02:00  10872.0  10872.0  10840.0  10840.0  30.691  08点02分00秒   10833.0 -31.0  1.067\n",
      "2018-01-24 00:03:00  10840.0  10849.0  10815.0  10833.0  20.135  08点03分00秒   10847.0  -7.0 -0.774\n",
      "2018-01-24 00:04:00  10834.0  10853.0  10833.0  10847.0  25.556  08点04分00秒       NaN  14.0 -3.000\n"
     ]
    }
   ],
   "source": [
    "df['涨跌幅']=df['涨跌'].pct_change(1) # 本行与上行增幅率\n",
    "print(df)"
   ]
  },
  {
   "cell_type": "code",
   "execution_count": 45,
   "metadata": {},
   "outputs": [
    {
     "name": "stdout",
     "output_type": "stream",
     "text": [
      "                     volume_sum  volume\n",
      "candle_begin_time                      \n",
      "2018-01-24 00:00:00      77.542  77.542\n",
      "2018-01-24 00:01:00     137.591  60.050\n",
      "2018-01-24 00:02:00     168.282  30.691\n",
      "2018-01-24 00:03:00     188.417  20.135\n",
      "2018-01-24 00:04:00     213.973  25.556\n",
      "candle_begin_time\n",
      "2018-01-24 00:00:00      NaN\n",
      "2018-01-24 00:01:00      NaN\n",
      "2018-01-24 00:02:00    2.067\n",
      "2018-01-24 00:03:00    0.467\n",
      "2018-01-24 00:04:00   -0.933\n",
      "Name: 涨跌幅, dtype: float64\n"
     ]
    }
   ],
   "source": [
    "# cum类函数\n",
    "df['volume_sum']=df['volume'].cumsum() # 每列依次累加值\n",
    "print(df[['volume_sum','volume']])\n",
    "print((df['涨跌幅']+1.0).cumprod()) # 每列累乘值，，初始资金设为1，即收入资金曲线"
   ]
  },
  {
   "cell_type": "code",
   "execution_count": 50,
   "metadata": {},
   "outputs": [
    {
     "name": "stdout",
     "output_type": "stream",
     "text": [
      "                     volume  volume_rank\n",
      "candle_begin_time                       \n",
      "2018-01-24 00:00:00  77.542          1.0\n",
      "2018-01-24 00:01:00  60.050          2.0\n",
      "2018-01-24 00:02:00  30.691          3.0\n",
      "2018-01-24 00:03:00  20.135          5.0\n",
      "2018-01-24 00:04:00  25.556          4.0\n",
      "                     volume  volume_count\n",
      "candle_begin_time                        \n",
      "2018-01-24 00:00:00  77.542           NaN\n",
      "2018-01-24 00:01:00  60.050           NaN\n",
      "2018-01-24 00:02:00  30.691           NaN\n",
      "2018-01-24 00:03:00  20.135           NaN\n",
      "2018-01-24 00:04:00  25.556           NaN\n",
      "25.556    1\n",
      "60.050    1\n",
      "77.542    1\n",
      "20.135    1\n",
      "30.691    1\n",
      "Name: volume, dtype: int64\n"
     ]
    }
   ],
   "source": [
    "# 其他列函数\n",
    "# rank 排名\n",
    "df['volume_rank']=df['volume'].rank(ascending=False,pct=False) # ascending=True为顺序，反之逆序，pct为按百分比排名\n",
    "print(df[['volume','volume_rank']])\n",
    "# value_counts() 统计出现次数\n",
    "df['volume_count']=df['volume'].value_counts() # value_counts的结果不能赋值变量？？\n",
    "print(df[['volume','volume_count']])\n",
    "print(df['volume'].value_counts())"
   ]
  },
  {
   "cell_type": "code",
   "execution_count": null,
   "metadata": {},
   "outputs": [],
   "source": []
  }
 ],
 "metadata": {
  "kernelspec": {
   "display_name": "Python 3",
   "language": "python",
   "name": "python3"
  },
  "language_info": {
   "codemirror_mode": {
    "name": "ipython",
    "version": 3
   },
   "file_extension": ".py",
   "mimetype": "text/x-python",
   "name": "python",
   "nbconvert_exporter": "python",
   "pygments_lexer": "ipython3",
   "version": "3.7.4"
  }
 },
 "nbformat": 4,
 "nbformat_minor": 2
}
