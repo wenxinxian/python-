{
 "cells": [
  {
   "cell_type": "markdown",
   "metadata": {},
   "source": [
    "python入门基础\n",
    "\n",
    "B.条件与循环"
   ]
  },
  {
   "cell_type": "code",
   "execution_count": 1,
   "metadata": {},
   "outputs": [
    {
     "name": "stdout",
     "output_type": "stream",
     "text": [
      "C:\\Users\\wen18\n"
     ]
    }
   ],
   "source": [
    "# 查询jupyter 文件默认保存路径\n",
    "import os\n",
    "print(os.path.abspath('.'))"
   ]
  },
  {
   "cell_type": "markdown",
   "metadata": {},
   "source": [
    "条件语法介绍（注意空格，冒号及缩进）\n",
    "\n",
    "if 条件1:\n",
    "\n",
    "    执行操作1（tab缩进）\n",
    "elif 条件2:\n",
    "\n",
    "    执行操作2\n",
    "    ...\n",
    "else:\n",
    "\n",
    "    执行操作3"
   ]
  },
  {
   "cell_type": "code",
   "execution_count": 4,
   "metadata": {},
   "outputs": [
    {
     "name": "stdout",
     "output_type": "stream",
     "text": [
      "以比特币计价\n"
     ]
    }
   ],
   "source": [
    "# 示例 判断币的计价单位\n",
    "symbol='xrpbtc'\n",
    "if symbol.endswith('btc'):\n",
    "    print(\"以比特币计价\")\n",
    "elif symbol.endswith('usd'):\n",
    "    print(\"以美元计价\")\n",
    "else:\n",
    "    print('不知道以何计价')"
   ]
  },
  {
   "cell_type": "code",
   "execution_count": 5,
   "metadata": {},
   "outputs": [],
   "source": [
    "symbol='xrpeth' #去掉else的条件语句不返回任何输出\n",
    "if symbol.endswith('btc'):\n",
    "    print(\"以比特币计价\")\n",
    "elif symbol.endswith('usd'):\n",
    "    print(\"以美元计价\")\n",
    "# else:\n",
    "#     print('不知道以何计价')"
   ]
  },
  {
   "cell_type": "code",
   "execution_count": 6,
   "metadata": {},
   "outputs": [
    {
     "name": "stdout",
     "output_type": "stream",
     "text": [
      "以美元计价\n"
     ]
    }
   ],
   "source": [
    "symbol='xrpusd' # 条件重复时，只取第一次\n",
    "if symbol.endswith('btc'):\n",
    "    print(\"以比特币计价\")\n",
    "elif symbol.endswith('usd'):\n",
    "    print(\"以美元计价\")\n",
    "elif symbol.endswith('usd'):\n",
    "    print(\"重复\")\n",
    "else:\n",
    "    print('不知道以何计价')"
   ]
  },
  {
   "cell_type": "code",
   "execution_count": 7,
   "metadata": {},
   "outputs": [],
   "source": [
    "symbol='xrpusd' # 条件符合，但不执行\n",
    "if symbol.endswith('btc'):\n",
    "    print(\"以比特币计价\")\n",
    "elif symbol.endswith('usd'):\n",
    "    pass\n",
    "\n",
    "else:\n",
    "    print('不知道以何计价')"
   ]
  },
  {
   "cell_type": "markdown",
   "metadata": {},
   "source": [
    "for循环介绍\n",
    "\n",
    "for 变量名 in 变量赋值内容:(结尾冒号)\n",
    "\n",
    "    执行操作（tab缩进）"
   ]
  },
  {
   "cell_type": "code",
   "execution_count": 8,
   "metadata": {},
   "outputs": [
    {
     "name": "stdout",
     "output_type": "stream",
     "text": [
      "the\n",
      "2\n",
      "3\n",
      "4\n",
      "end\n"
     ]
    }
   ],
   "source": [
    "# 遍历列表元素\n",
    "for list_var in ['the',2,3,4,'end']:\n",
    "    print(list_var)"
   ]
  },
  {
   "cell_type": "code",
   "execution_count": 17,
   "metadata": {},
   "outputs": [
    {
     "name": "stdout",
     "output_type": "stream",
     "text": [
      "1\n",
      "2\n",
      "3\n",
      "4\n",
      "5\n",
      "6\n",
      "7\n",
      "8\n",
      "9\n",
      "10\n",
      "55\n"
     ]
    }
   ],
   "source": [
    "# 计算1-10累加结果\n",
    "sums=0\n",
    "# print(one)\n",
    "for a in range(1,11):\n",
    "    print(a)\n",
    "    sums+=a # sums=sums+a\n",
    "print(sums) # print(sums)"
   ]
  },
  {
   "cell_type": "markdown",
   "metadata": {},
   "source": [
    "关于range函数"
   ]
  },
  {
   "cell_type": "code",
   "execution_count": 20,
   "metadata": {},
   "outputs": [
    {
     "name": "stdout",
     "output_type": "stream",
     "text": [
      "1\n",
      "2\n",
      "3\n",
      "4\n",
      "5\n",
      "6\n",
      "7\n",
      "8\n",
      "9\n",
      "10\n",
      "*******\n",
      "0\n",
      "1\n",
      "2\n",
      "3\n",
      "4\n",
      "5\n",
      "6\n",
      "7\n",
      "8\n",
      "9\n",
      "10\n"
     ]
    }
   ],
   "source": [
    "for a in range(1,11): # 从1至10序列\n",
    "    print(a)\n",
    "print('*'*7)\n",
    "for b in range(11): #从0至10序列\n",
    "    print(b)"
   ]
  },
  {
   "cell_type": "code",
   "execution_count": 25,
   "metadata": {},
   "outputs": [
    {
     "name": "stdout",
     "output_type": "stream",
     "text": [
      "以美元计价\n",
      "不知道以何计价\n",
      "以比特币计价\n",
      "不知道以何计价\n",
      "以美元计价\n",
      "不知道以何计价\n",
      "不知道以何计价\n"
     ]
    }
   ],
   "source": [
    "# 关于continue\n",
    "symbol_list=['btcusd','xrpbtc','ethusd','btceth']\n",
    "for symbol in symbol_list:\n",
    "    if symbol.endswith('btc'):\n",
    "        print(\"以比特币计价\")\n",
    "    if symbol.endswith('usd'):\n",
    "        print(\"以美元计价\")\n",
    "\n",
    "    print('不知道以何计价') # 产生错误"
   ]
  },
  {
   "cell_type": "code",
   "execution_count": 26,
   "metadata": {},
   "outputs": [
    {
     "name": "stdout",
     "output_type": "stream",
     "text": [
      "以美元计价\n",
      "以比特币计价\n",
      "以美元计价\n",
      "不知道以何计价\n"
     ]
    }
   ],
   "source": [
    "#正确修改方式1—使用continue\n",
    "symbol_list=['btcusd','xrpbtc','ethusd','btceth']\n",
    "for symbol in symbol_list:\n",
    "    if symbol.endswith('btc'):\n",
    "        print(\"以比特币计价\")\n",
    "        continue # continue后直接进入下一个循环\n",
    "    if symbol.endswith('usd'):\n",
    "        print(\"以美元计价\")\n",
    "        continue\n",
    "   # else:\n",
    "    print('不知道以何计价')"
   ]
  },
  {
   "cell_type": "code",
   "execution_count": 28,
   "metadata": {},
   "outputs": [
    {
     "name": "stdout",
     "output_type": "stream",
     "text": [
      "以美元计价\n",
      "以比特币计价\n",
      "以美元计价\n",
      "不知道以何计价\n"
     ]
    }
   ],
   "source": [
    "#正确修改方式2—if elif else\n",
    "symbol_list=['btcusd','xrpbtc','ethusd','btceth']\n",
    "for symbol in symbol_list:\n",
    "    if symbol.endswith('btc'):\n",
    "        print(\"以比特币计价\")\n",
    "     #   continue # continue后直接进入下一个循环\n",
    "    elif symbol.endswith('usd'):\n",
    "        print(\"以美元计价\")\n",
    "      #  continue\n",
    "    else:\n",
    "        print('不知道以何计价')"
   ]
  },
  {
   "cell_type": "markdown",
   "metadata": {},
   "source": [
    "while语句介绍"
   ]
  },
  {
   "cell_type": "markdown",
   "metadata": {},
   "source": [
    "while 条件1：\n",
    "\n",
    "    执行操作1（tab缩进）\n",
    "    ..."
   ]
  },
  {
   "cell_type": "code",
   "execution_count": 4,
   "metadata": {},
   "outputs": [
    {
     "name": "stdout",
     "output_type": "stream",
     "text": [
      "1 1\n",
      "2 3\n",
      "3 6\n",
      "4 10\n",
      "5 15\n",
      "6 21\n",
      "7 28\n",
      "8 36\n",
      "9 45\n",
      "10 55\n",
      "55\n"
     ]
    }
   ],
   "source": [
    "# 累加计算1-10\n",
    "num=0\n",
    "sumnum=0\n",
    "maxnum=10\n",
    "while num<maxnum:\n",
    "    num+=1\n",
    "    sumnum+=num\n",
    "    print(num,sumnum)\n",
    "print(sumnum)"
   ]
  },
  {
   "cell_type": "code",
   "execution_count": 6,
   "metadata": {},
   "outputs": [
    {
     "name": "stdout",
     "output_type": "stream",
     "text": [
      "1 1\n",
      "2 3\n",
      "3 6\n",
      "4 10\n",
      "5 15\n",
      "6 21\n",
      "7 28\n",
      "8 36\n",
      "9 45\n",
      "10 55\n",
      "55\n"
     ]
    }
   ],
   "source": [
    "# 累加计算2—关于break\n",
    "num=0\n",
    "sumnum=0\n",
    "maxnum=10\n",
    "while True:\n",
    "    num+=1\n",
    "    sumnum+=num\n",
    "    print(num,sumnum)\n",
    "    if num==maxnum:\n",
    "        break # 跳出整个循环，for循环同样适用\n",
    "print(sumnum)"
   ]
  },
  {
   "cell_type": "code",
   "execution_count": null,
   "metadata": {},
   "outputs": [],
   "source": []
  }
 ],
 "metadata": {
  "kernelspec": {
   "display_name": "Python 3",
   "language": "python",
   "name": "python3"
  },
  "language_info": {
   "codemirror_mode": {
    "name": "ipython",
    "version": 3
   },
   "file_extension": ".py",
   "mimetype": "text/x-python",
   "name": "python",
   "nbconvert_exporter": "python",
   "pygments_lexer": "ipython3",
   "version": "3.7.4"
  }
 },
 "nbformat": 4,
 "nbformat_minor": 2
}
